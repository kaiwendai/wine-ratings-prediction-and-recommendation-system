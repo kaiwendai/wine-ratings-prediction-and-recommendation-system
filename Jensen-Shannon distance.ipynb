{
 "cells": [
  {
   "cell_type": "markdown",
   "source": [
    "## 1. Package Installation"
   ],
   "metadata": {
    "collapsed": false
   }
  },
  {
   "cell_type": "code",
   "execution_count": 1,
   "metadata": {
    "collapsed": true
   },
   "outputs": [],
   "source": [
    "import pandas as pd\n",
    "import numpy as np\n",
    "import warnings\n",
    "import seaborn as sns\n",
    "import matplotlib.pyplot as plt\n",
    "import ast\n",
    "import gensim\n",
    "from gensim.models import LdaModel\n",
    "from gensim import models, corpora, similarities\n",
    "from scipy.stats import entropy\n",
    "from Preprocessing import clean, token_stop\n",
    "import scipy.spatial as sp\n",
    "\n",
    "warnings.filterwarnings('ignore')\n",
    "%config InlineBackend.figure_format='retina'"
   ]
  },
  {
   "cell_type": "markdown",
   "source": [
    "## 2. Read in Data"
   ],
   "metadata": {
    "collapsed": false
   }
  },
  {
   "cell_type": "code",
   "execution_count": 2,
   "outputs": [
    {
     "data": {
      "text/plain": "    country                                        description  \\\n0     Italy  Aromas include tropical fruit, broom, brimston...   \n1  Portugal  This is ripe and fruity, a wine that is smooth...   \n2        US  Tart and snappy, the flavors of lime flesh and...   \n3        US  Pineapple rind, lemon pith and orange blossom ...   \n4        US  Much like the regular bottling from 2012, this...   \n\n                          designation  points  price           province  \\\n0                        Vulkà Bianco      87   39.5  Sicily & Sardinia   \n1                            Avidagos      87   15.0              Douro   \n2                                None      87   14.0             Oregon   \n3                Reserve Late Harvest      87   13.0           Michigan   \n4  Vintner's Reserve Wild Child Block      87   65.0             Oregon   \n\n              region_1           region_2  \\\n0                 Etna               None   \n1                 None               None   \n2    Willamette Valley  Willamette Valley   \n3  Lake Michigan Shore               None   \n4    Willamette Valley  Willamette Valley   \n\n                                               title         variety  ...  \\\n0                  Nicosia 2013 Vulkà Bianco  (Etna)     White Blend  ...   \n1      Quinta dos Avidagos 2011 Avidagos Red (Douro)  Portuguese Red  ...   \n2      Rainstorm 2013 Pinot Gris (Willamette Valley)      Pinot Gris  ...   \n3  St. Julian 2013 Reserve Late Harvest Riesling ...        Riesling  ...   \n4  Sweet Cheeks 2012 Vintner's Reserve Wild Child...      Pinot Noir  ...   \n\n   130  131  132       133       134       135  136  137  138  139  \n0  0.0  0.0  0.0  0.000000  0.000000  0.000000  0.0  0.0  0.0  0.0  \n1  0.0  0.0  0.0  0.000000  0.000000  0.000000  0.0  0.0  0.0  0.0  \n2  0.0  0.0  0.0  0.081144  0.000000  0.000000  0.0  0.0  0.0  0.0  \n3  0.0  0.0  0.0  0.349908  0.092807  0.000000  0.0  0.0  0.0  0.0  \n4  0.0  0.0  0.0  0.000000  0.000000  0.048212  0.0  0.0  0.0  0.0  \n\n[5 rows x 160 columns]",
      "text/html": "<div>\n<style scoped>\n    .dataframe tbody tr th:only-of-type {\n        vertical-align: middle;\n    }\n\n    .dataframe tbody tr th {\n        vertical-align: top;\n    }\n\n    .dataframe thead th {\n        text-align: right;\n    }\n</style>\n<table border=\"1\" class=\"dataframe\">\n  <thead>\n    <tr style=\"text-align: right;\">\n      <th></th>\n      <th>country</th>\n      <th>description</th>\n      <th>designation</th>\n      <th>points</th>\n      <th>price</th>\n      <th>province</th>\n      <th>region_1</th>\n      <th>region_2</th>\n      <th>title</th>\n      <th>variety</th>\n      <th>...</th>\n      <th>130</th>\n      <th>131</th>\n      <th>132</th>\n      <th>133</th>\n      <th>134</th>\n      <th>135</th>\n      <th>136</th>\n      <th>137</th>\n      <th>138</th>\n      <th>139</th>\n    </tr>\n  </thead>\n  <tbody>\n    <tr>\n      <th>0</th>\n      <td>Italy</td>\n      <td>Aromas include tropical fruit, broom, brimston...</td>\n      <td>Vulkà Bianco</td>\n      <td>87</td>\n      <td>39.5</td>\n      <td>Sicily &amp; Sardinia</td>\n      <td>Etna</td>\n      <td>None</td>\n      <td>Nicosia 2013 Vulkà Bianco  (Etna)</td>\n      <td>White Blend</td>\n      <td>...</td>\n      <td>0.0</td>\n      <td>0.0</td>\n      <td>0.0</td>\n      <td>0.000000</td>\n      <td>0.000000</td>\n      <td>0.000000</td>\n      <td>0.0</td>\n      <td>0.0</td>\n      <td>0.0</td>\n      <td>0.0</td>\n    </tr>\n    <tr>\n      <th>1</th>\n      <td>Portugal</td>\n      <td>This is ripe and fruity, a wine that is smooth...</td>\n      <td>Avidagos</td>\n      <td>87</td>\n      <td>15.0</td>\n      <td>Douro</td>\n      <td>None</td>\n      <td>None</td>\n      <td>Quinta dos Avidagos 2011 Avidagos Red (Douro)</td>\n      <td>Portuguese Red</td>\n      <td>...</td>\n      <td>0.0</td>\n      <td>0.0</td>\n      <td>0.0</td>\n      <td>0.000000</td>\n      <td>0.000000</td>\n      <td>0.000000</td>\n      <td>0.0</td>\n      <td>0.0</td>\n      <td>0.0</td>\n      <td>0.0</td>\n    </tr>\n    <tr>\n      <th>2</th>\n      <td>US</td>\n      <td>Tart and snappy, the flavors of lime flesh and...</td>\n      <td>None</td>\n      <td>87</td>\n      <td>14.0</td>\n      <td>Oregon</td>\n      <td>Willamette Valley</td>\n      <td>Willamette Valley</td>\n      <td>Rainstorm 2013 Pinot Gris (Willamette Valley)</td>\n      <td>Pinot Gris</td>\n      <td>...</td>\n      <td>0.0</td>\n      <td>0.0</td>\n      <td>0.0</td>\n      <td>0.081144</td>\n      <td>0.000000</td>\n      <td>0.000000</td>\n      <td>0.0</td>\n      <td>0.0</td>\n      <td>0.0</td>\n      <td>0.0</td>\n    </tr>\n    <tr>\n      <th>3</th>\n      <td>US</td>\n      <td>Pineapple rind, lemon pith and orange blossom ...</td>\n      <td>Reserve Late Harvest</td>\n      <td>87</td>\n      <td>13.0</td>\n      <td>Michigan</td>\n      <td>Lake Michigan Shore</td>\n      <td>None</td>\n      <td>St. Julian 2013 Reserve Late Harvest Riesling ...</td>\n      <td>Riesling</td>\n      <td>...</td>\n      <td>0.0</td>\n      <td>0.0</td>\n      <td>0.0</td>\n      <td>0.349908</td>\n      <td>0.092807</td>\n      <td>0.000000</td>\n      <td>0.0</td>\n      <td>0.0</td>\n      <td>0.0</td>\n      <td>0.0</td>\n    </tr>\n    <tr>\n      <th>4</th>\n      <td>US</td>\n      <td>Much like the regular bottling from 2012, this...</td>\n      <td>Vintner's Reserve Wild Child Block</td>\n      <td>87</td>\n      <td>65.0</td>\n      <td>Oregon</td>\n      <td>Willamette Valley</td>\n      <td>Willamette Valley</td>\n      <td>Sweet Cheeks 2012 Vintner's Reserve Wild Child...</td>\n      <td>Pinot Noir</td>\n      <td>...</td>\n      <td>0.0</td>\n      <td>0.0</td>\n      <td>0.0</td>\n      <td>0.000000</td>\n      <td>0.000000</td>\n      <td>0.048212</td>\n      <td>0.0</td>\n      <td>0.0</td>\n      <td>0.0</td>\n      <td>0.0</td>\n    </tr>\n  </tbody>\n</table>\n<p>5 rows × 160 columns</p>\n</div>"
     },
     "execution_count": 2,
     "metadata": {},
     "output_type": "execute_result"
    }
   ],
   "source": [
    "df_wine = pd.read_csv('data/df_wine_clean_no.csv').iloc[:, 1:]\n",
    "df_wine.head()"
   ],
   "metadata": {
    "collapsed": false
   }
  },
  {
   "cell_type": "code",
   "execution_count": 3,
   "outputs": [
    {
     "data": {
      "text/plain": "(119459, 160)"
     },
     "execution_count": 3,
     "metadata": {},
     "output_type": "execute_result"
    }
   ],
   "source": [
    "df_wine.shape"
   ],
   "metadata": {
    "collapsed": false
   }
  },
  {
   "cell_type": "code",
   "execution_count": 4,
   "outputs": [],
   "source": [
    "lda = LdaModel.load('models/topic modeling/optimal_ldamodel')\n",
    "dictionary = corpora.Dictionary.load('models/topic modeling/optimal_ldamodel.id2word')\n",
    "df_wine['LDA description'] = [ast.literal_eval(text) for text in df_wine['LDA description']]\n",
    "corpus = [dictionary.doc2bow(text) for text in df_wine['LDA description']]"
   ],
   "metadata": {
    "collapsed": false
   }
  },
  {
   "cell_type": "markdown",
   "source": [
    "## 3. Apply Jensen-Shannon distance"
   ],
   "metadata": {
    "collapsed": false
   }
  },
  {
   "cell_type": "code",
   "execution_count": 5,
   "outputs": [
    {
     "data": {
      "text/plain": "(119459, 140)"
     },
     "execution_count": 5,
     "metadata": {},
     "output_type": "execute_result"
    }
   ],
   "source": [
    "doc_topic_dist = np.array(df_wine.iloc[:,20:])\n",
    "doc_topic_dist.shape"
   ],
   "metadata": {
    "collapsed": false
   }
  },
  {
   "cell_type": "code",
   "execution_count": null,
   "outputs": [],
   "source": [
    "fig, ax = plt.subplots()\n",
    "patches = ax.bar(np.arange(140), doc_topic_dist[0,:])\n",
    "ax.set_xlabel('Topic ID', fontsize=15)\n",
    "ax.set_ylabel('Topic Contribution', fontsize=15)\n",
    "ax.set_title(\"Topic Distribution for an Seen Article\", fontsize=20)\n",
    "fig.tight_layout()\n",
    "plt.show()"
   ],
   "metadata": {
    "collapsed": false
   }
  },
  {
   "cell_type": "code",
   "execution_count": 6,
   "outputs": [],
   "source": [
    "def jensen_shannon(query, matrix):\n",
    "    p = query[None, :].T\n",
    "    q = matrix.T\n",
    "    m = 0.5 * (p+q)\n",
    "    return np.sqrt(0.5 * (entropy(p, m)+entropy(q, m)))"
   ],
   "metadata": {
    "collapsed": false
   }
  },
  {
   "cell_type": "code",
   "execution_count": 7,
   "outputs": [],
   "source": [
    "def get_most_similar_documents(query, matrix, k=10):\n",
    "    sims = jensen_shannon(query, matrix)\n",
    "    return sims.argsort()[:k]"
   ],
   "metadata": {
    "collapsed": false
   }
  },
  {
   "cell_type": "code",
   "execution_count": 8,
   "outputs": [],
   "source": [
    "def print_most_similar(df, query, matrix, k=10, sort_points=False):\n",
    "    most_sim_ids = get_most_similar_documents(query, matrix)\n",
    "    most_similar_df = df[df.index.isin(most_sim_ids)]\n",
    "    most_similar_df = most_similar_df[['title', 'normalized rating']]\n",
    "    if sort_points:\n",
    "        most_similar_df = most_similar_df.sort_values(by=['normalized rating'], ascending=False)\n",
    "        print(f'{k} Most similar wines (descending order by similarity and points):')\n",
    "    else:\n",
    "        print(f'{k} Most similar wines (descending order by similarity):')\n",
    "    for i in range(k):\n",
    "        print(f'{i+1}. {most_similar_df.iloc[i, 0]} ---- {round(most_similar_df.iloc[i, 1], 2)}')"
   ],
   "metadata": {
    "collapsed": false
   }
  },
  {
   "cell_type": "code",
   "execution_count": 12,
   "outputs": [
    {
     "data": {
      "text/plain": "numpy.ndarray"
     },
     "execution_count": 12,
     "metadata": {},
     "output_type": "execute_result"
    }
   ],
   "source": [
    "type(doc_topic_dist)"
   ],
   "metadata": {
    "collapsed": false
   }
  },
  {
   "cell_type": "code",
   "execution_count": 10,
   "outputs": [
    {
     "data": {
      "text/plain": "array([1.19910768e-08, 8.32554695e-01, 8.32556540e-01, ...,\n       8.32555234e-01, 8.32555931e-01, 8.32559987e-01])"
     },
     "execution_count": 10,
     "metadata": {},
     "output_type": "execute_result"
    }
   ],
   "source": [
    "jensen_shannon(doc_topic_dist[0, :], doc_topic_dist)"
   ],
   "metadata": {
    "collapsed": false
   }
  },
  {
   "cell_type": "code",
   "execution_count": 9,
   "outputs": [
    {
     "name": "stdout",
     "output_type": "stream",
     "text": [
      "10 Most similar wines (descending order by similarity and points):\n",
      "1. Tenuta Luisa 2015 Friulano (Isonzo del Friuli) ---- 4.6\n",
      "2. Inama 2013 Vigneti di Foscarino  (Soave Classico) ---- 4.6\n",
      "3. Nicosia 2013 Vulkà Bianco  (Etna) ---- 4.15\n",
      "4. Panizzi 2014 Vigna Santa Margherita  (Vernaccia di San Gimignano) ---- 4.15\n",
      "5. Tenuta Gorghi Tondi 2013 Rajàh Zibibbo (Terre Siciliane) ---- 4.15\n",
      "6. Sandro de Bruno 2015 Colle di Montecchia di Crosara  (Soave Colli Scaligeri) ---- 4.15\n",
      "7. Feudo Antico 2014 Grillo Parlante Grillo (Terre Siciliane) ---- 4.15\n",
      "8. Capolino Perlingieri 2015 Vento Greco (Sannio) ---- 4.15\n",
      "9. Il Lebbio 2015 Tropìe  (Vernaccia di San Gimignano) ---- 4.15\n",
      "10. Kellerei Kaltern Caldaro 2012 Pinot Grigio (Alto Adige) ---- 3.7\n"
     ]
    }
   ],
   "source": [
    "print_most_similar(df_wine, doc_topic_dist[0, :], doc_topic_dist, sort_points=True)"
   ],
   "metadata": {
    "collapsed": false
   }
  },
  {
   "cell_type": "code",
   "execution_count": null,
   "outputs": [],
   "source": [
    "#use lda model to predict a new document\n",
    "new_doc = \"There are oodles of crowd-pleasing floral and fruit aromas on this Semillon-Sauvignon blend. Honeysuckle, lime blossom, peach and lemon drops are underpinned by gingery spice. The palate is weightier than one might expect, although it's still in the light-to medium-bodied spectrum. Flavors are delicate but persistent. There's freshness and a pretty, summer-sipping vibe. Drink now.\"\n",
    "new_doc = token_stop(new_doc)\n",
    "new_doc_bow = dictionary.doc2bow(new_doc)\n",
    "new_doc_dist = lda.get_document_topics(new_doc_bow)\n",
    "dist = np.zeros(140,)\n",
    "for (i, prob) in new_doc_dist:\n",
    "    dist[i] = prob\n",
    "new_doc_dist = dist\n",
    "new_doc_dist"
   ],
   "metadata": {
    "collapsed": false
   }
  },
  {
   "cell_type": "code",
   "execution_count": null,
   "outputs": [],
   "source": [
    "print_most_similar(df_wine, new_doc_dist, doc_topic_dist, sort_points=True)"
   ],
   "metadata": {
    "collapsed": false
   }
  }
 ],
 "metadata": {
  "kernelspec": {
   "display_name": "Python 3",
   "language": "python",
   "name": "python3"
  },
  "language_info": {
   "codemirror_mode": {
    "name": "ipython",
    "version": 2
   },
   "file_extension": ".py",
   "mimetype": "text/x-python",
   "name": "python",
   "nbconvert_exporter": "python",
   "pygments_lexer": "ipython2",
   "version": "2.7.6"
  }
 },
 "nbformat": 4,
 "nbformat_minor": 0
}
