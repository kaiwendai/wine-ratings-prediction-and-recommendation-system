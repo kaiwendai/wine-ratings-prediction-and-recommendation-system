{
 "cells": [
  {
   "cell_type": "markdown",
   "id": "c5fed696",
   "metadata": {},
   "source": [
    "## Plot Map (Avg Prices)"
   ]
  },
  {
   "cell_type": "code",
   "execution_count": 2,
   "id": "fb740bb6",
   "metadata": {},
   "outputs": [
    {
     "data": {
      "text/html": [
       "        <script type=\"text/javascript\">\n",
       "        window.PlotlyConfig = {MathJaxConfig: 'local'};\n",
       "        if (window.MathJax) {MathJax.Hub.Config({SVG: {font: \"STIX-Web\"}});}\n",
       "        if (typeof require !== 'undefined') {\n",
       "        require.undef(\"plotly\");\n",
       "        requirejs.config({\n",
       "            paths: {\n",
       "                'plotly': ['https://cdn.plot.ly/plotly-2.11.1.min']\n",
       "            }\n",
       "        });\n",
       "        require(['plotly'], function(Plotly) {\n",
       "            window._Plotly = Plotly;\n",
       "        });\n",
       "        }\n",
       "        </script>\n",
       "        "
      ]
     },
     "metadata": {},
     "output_type": "display_data"
    }
   ],
   "source": [
    "import pandas as pd\n",
    "import plotly.graph_objs as go \n",
    "from plotly.offline import init_notebook_mode,iplot,plot\n",
    "init_notebook_mode(connected=True)"
   ]
  },
  {
   "cell_type": "code",
   "execution_count": 4,
   "id": "e1eb88e4",
   "metadata": {},
   "outputs": [],
   "source": [
    "temp_df = pd.read_csv('data/df_wine_clean_no.csv')"
   ]
  },
  {
   "cell_type": "code",
   "execution_count": null,
   "id": "ee74b3c8",
   "metadata": {},
   "outputs": [],
   "source": [
    "temp_df['country'].replace(\"US\", \"United States\", inplace = True)\n",
    "temp_df['country'].replace(\"England\", \"United Kingdom\", inplace = True)\n",
    "temp_df = temp_df.groupby('country')['price'].mean().reset_index()"
   ]
  },
  {
   "cell_type": "code",
   "execution_count": null,
   "id": "8d13ded7",
   "metadata": {},
   "outputs": [],
   "source": [
    "data = dict(\n",
    "        type = 'choropleth',\n",
    "        colorscale = 'Sunsetdark',\n",
    "        locations = temp_df['country'],\n",
    "        locationmode = \"country names\",\n",
    "        z = temp_df['price'],\n",
    "        text = temp_df['country'],\n",
    "        colorbar = {'title' : 'Average Price'},\n",
    "      )"
   ]
  },
  {
   "cell_type": "code",
   "execution_count": null,
   "id": "3f8c0d5d",
   "metadata": {},
   "outputs": [],
   "source": [
    "layout = dict(title = 'Average Prices of Wine by Country',\n",
    "              geo = dict(projection = {'type':'natural earth'}),title_x=0.5, titlefont = {\"size\": 25})"
   ]
  },
  {
   "cell_type": "code",
   "execution_count": null,
   "id": "d60ac8ce",
   "metadata": {},
   "outputs": [],
   "source": [
    "choromap = go.Figure(data = data,layout = layout)\n",
    "iplot(choromap,validate=False)"
   ]
  }
 ],
 "metadata": {
  "kernelspec": {
   "display_name": "Python 3 (ipykernel)",
   "language": "python",
   "name": "python3"
  },
  "language_info": {
   "codemirror_mode": {
    "name": "ipython",
    "version": 3
   },
   "file_extension": ".py",
   "mimetype": "text/x-python",
   "name": "python",
   "nbconvert_exporter": "python",
   "pygments_lexer": "ipython3",
   "version": "3.8.13"
  }
 },
 "nbformat": 4,
 "nbformat_minor": 5
}
