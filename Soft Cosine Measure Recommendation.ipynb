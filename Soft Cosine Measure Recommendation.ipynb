{
 "cells": [
  {
   "cell_type": "code",
   "execution_count": 1,
   "id": "e056735c",
   "metadata": {},
   "outputs": [],
   "source": [
    "import pandas as pd\n",
    "import numpy as np"
   ]
  },
  {
   "cell_type": "code",
   "execution_count": 2,
   "id": "7d5c39e1",
   "metadata": {},
   "outputs": [],
   "source": [
    "df = pd.read_csv('data/df_wine_clean_no.csv')"
   ]
  },
  {
   "cell_type": "code",
   "execution_count": 3,
   "id": "0affb88a",
   "metadata": {},
   "outputs": [
    {
     "data": {
      "text/plain": "   Unnamed: 0   country                                        description  \\\n0           0     Italy  Aromas include tropical fruit, broom, brimston...   \n1           1  Portugal  This is ripe and fruity, a wine that is smooth...   \n2           2        US  Tart and snappy, the flavors of lime flesh and...   \n3           3        US  Pineapple rind, lemon pith and orange blossom ...   \n4           4        US  Much like the regular bottling from 2012, this...   \n\n                          designation  points  price           province  \\\n0                        Vulkà Bianco      87   39.5  Sicily & Sardinia   \n1                            Avidagos      87   15.0              Douro   \n2                                None      87   14.0             Oregon   \n3                Reserve Late Harvest      87   13.0           Michigan   \n4  Vintner's Reserve Wild Child Block      87   65.0             Oregon   \n\n              region_1           region_2  \\\n0                 Etna               None   \n1                 None               None   \n2    Willamette Valley  Willamette Valley   \n3  Lake Michigan Shore               None   \n4    Willamette Valley  Willamette Valley   \n\n                                               title  ...  130  131  132  \\\n0                  Nicosia 2013 Vulkà Bianco  (Etna)  ...  0.0  0.0  0.0   \n1      Quinta dos Avidagos 2011 Avidagos Red (Douro)  ...  0.0  0.0  0.0   \n2      Rainstorm 2013 Pinot Gris (Willamette Valley)  ...  0.0  0.0  0.0   \n3  St. Julian 2013 Reserve Late Harvest Riesling ...  ...  0.0  0.0  0.0   \n4  Sweet Cheeks 2012 Vintner's Reserve Wild Child...  ...  0.0  0.0  0.0   \n\n        133       134       135  136  137  138  139  \n0  0.000000  0.000000  0.000000  0.0  0.0  0.0  0.0  \n1  0.000000  0.000000  0.000000  0.0  0.0  0.0  0.0  \n2  0.081144  0.000000  0.000000  0.0  0.0  0.0  0.0  \n3  0.349908  0.092807  0.000000  0.0  0.0  0.0  0.0  \n4  0.000000  0.000000  0.048212  0.0  0.0  0.0  0.0  \n\n[5 rows x 161 columns]",
      "text/html": "<div>\n<style scoped>\n    .dataframe tbody tr th:only-of-type {\n        vertical-align: middle;\n    }\n\n    .dataframe tbody tr th {\n        vertical-align: top;\n    }\n\n    .dataframe thead th {\n        text-align: right;\n    }\n</style>\n<table border=\"1\" class=\"dataframe\">\n  <thead>\n    <tr style=\"text-align: right;\">\n      <th></th>\n      <th>Unnamed: 0</th>\n      <th>country</th>\n      <th>description</th>\n      <th>designation</th>\n      <th>points</th>\n      <th>price</th>\n      <th>province</th>\n      <th>region_1</th>\n      <th>region_2</th>\n      <th>title</th>\n      <th>...</th>\n      <th>130</th>\n      <th>131</th>\n      <th>132</th>\n      <th>133</th>\n      <th>134</th>\n      <th>135</th>\n      <th>136</th>\n      <th>137</th>\n      <th>138</th>\n      <th>139</th>\n    </tr>\n  </thead>\n  <tbody>\n    <tr>\n      <th>0</th>\n      <td>0</td>\n      <td>Italy</td>\n      <td>Aromas include tropical fruit, broom, brimston...</td>\n      <td>Vulkà Bianco</td>\n      <td>87</td>\n      <td>39.5</td>\n      <td>Sicily &amp; Sardinia</td>\n      <td>Etna</td>\n      <td>None</td>\n      <td>Nicosia 2013 Vulkà Bianco  (Etna)</td>\n      <td>...</td>\n      <td>0.0</td>\n      <td>0.0</td>\n      <td>0.0</td>\n      <td>0.000000</td>\n      <td>0.000000</td>\n      <td>0.000000</td>\n      <td>0.0</td>\n      <td>0.0</td>\n      <td>0.0</td>\n      <td>0.0</td>\n    </tr>\n    <tr>\n      <th>1</th>\n      <td>1</td>\n      <td>Portugal</td>\n      <td>This is ripe and fruity, a wine that is smooth...</td>\n      <td>Avidagos</td>\n      <td>87</td>\n      <td>15.0</td>\n      <td>Douro</td>\n      <td>None</td>\n      <td>None</td>\n      <td>Quinta dos Avidagos 2011 Avidagos Red (Douro)</td>\n      <td>...</td>\n      <td>0.0</td>\n      <td>0.0</td>\n      <td>0.0</td>\n      <td>0.000000</td>\n      <td>0.000000</td>\n      <td>0.000000</td>\n      <td>0.0</td>\n      <td>0.0</td>\n      <td>0.0</td>\n      <td>0.0</td>\n    </tr>\n    <tr>\n      <th>2</th>\n      <td>2</td>\n      <td>US</td>\n      <td>Tart and snappy, the flavors of lime flesh and...</td>\n      <td>None</td>\n      <td>87</td>\n      <td>14.0</td>\n      <td>Oregon</td>\n      <td>Willamette Valley</td>\n      <td>Willamette Valley</td>\n      <td>Rainstorm 2013 Pinot Gris (Willamette Valley)</td>\n      <td>...</td>\n      <td>0.0</td>\n      <td>0.0</td>\n      <td>0.0</td>\n      <td>0.081144</td>\n      <td>0.000000</td>\n      <td>0.000000</td>\n      <td>0.0</td>\n      <td>0.0</td>\n      <td>0.0</td>\n      <td>0.0</td>\n    </tr>\n    <tr>\n      <th>3</th>\n      <td>3</td>\n      <td>US</td>\n      <td>Pineapple rind, lemon pith and orange blossom ...</td>\n      <td>Reserve Late Harvest</td>\n      <td>87</td>\n      <td>13.0</td>\n      <td>Michigan</td>\n      <td>Lake Michigan Shore</td>\n      <td>None</td>\n      <td>St. Julian 2013 Reserve Late Harvest Riesling ...</td>\n      <td>...</td>\n      <td>0.0</td>\n      <td>0.0</td>\n      <td>0.0</td>\n      <td>0.349908</td>\n      <td>0.092807</td>\n      <td>0.000000</td>\n      <td>0.0</td>\n      <td>0.0</td>\n      <td>0.0</td>\n      <td>0.0</td>\n    </tr>\n    <tr>\n      <th>4</th>\n      <td>4</td>\n      <td>US</td>\n      <td>Much like the regular bottling from 2012, this...</td>\n      <td>Vintner's Reserve Wild Child Block</td>\n      <td>87</td>\n      <td>65.0</td>\n      <td>Oregon</td>\n      <td>Willamette Valley</td>\n      <td>Willamette Valley</td>\n      <td>Sweet Cheeks 2012 Vintner's Reserve Wild Child...</td>\n      <td>...</td>\n      <td>0.0</td>\n      <td>0.0</td>\n      <td>0.0</td>\n      <td>0.000000</td>\n      <td>0.000000</td>\n      <td>0.048212</td>\n      <td>0.0</td>\n      <td>0.0</td>\n      <td>0.0</td>\n      <td>0.0</td>\n    </tr>\n  </tbody>\n</table>\n<p>5 rows × 161 columns</p>\n</div>"
     },
     "execution_count": 3,
     "metadata": {},
     "output_type": "execute_result"
    }
   ],
   "source": [
    "df.head()"
   ]
  },
  {
   "cell_type": "code",
   "execution_count": 7,
   "id": "7bb486c4",
   "metadata": {},
   "outputs": [],
   "source": [
    "from nltk.corpus import stopwords\n",
    "from nltk import download\n",
    "from nltk.tokenize import sent_tokenize, word_tokenize\n",
    "from gensim.corpora import Dictionary\n",
    "from gensim.models import TfidfModel\n",
    "import gensim.downloader as api\n",
    "from gensim.similarities import SparseTermSimilarityMatrix, WordEmbeddingSimilarityIndex\n",
    "import re"
   ]
  },
  {
   "cell_type": "code",
   "execution_count": 23,
   "id": "a1e0ff91",
   "metadata": {},
   "outputs": [],
   "source": [
    "def clean(text):\n",
    "    # replace any non-letters with a space\n",
    "    text = re.sub('[^A-Za-z]+', ' ', text)\n",
    "    # lower case the text\n",
    "    text = text.lower()\n",
    "    return text\n",
    "\n",
    "def token_stop(text):\n",
    "    temp = clean(text)\n",
    "    tokens = word_tokenize(temp) # tokenize the text\n",
    "    newlist = []\n",
    "    for word in tokens:\n",
    "        if word not in set(stopwords.words('english')): # remove stop words\n",
    "            newlist.append(word)\n",
    "    return newlist"
   ]
  },
  {
   "cell_type": "code",
   "execution_count": 9,
   "id": "a4f681c9",
   "metadata": {},
   "outputs": [],
   "source": [
    "import ast\n",
    "df['LDA description'] = [ast.literal_eval(i) for i in df['LDA description']]"
   ]
  },
  {
   "cell_type": "code",
   "execution_count": 10,
   "id": "5660dd57",
   "metadata": {},
   "outputs": [],
   "source": [
    "dict_ = Dictionary(df['LDA description'])"
   ]
  },
  {
   "cell_type": "code",
   "execution_count": 16,
   "id": "75c58da9",
   "metadata": {},
   "outputs": [],
   "source": [
    "doc_term_matrix = [dict_.doc2bow(i) for i in df['LDA description']]"
   ]
  },
  {
   "cell_type": "code",
   "execution_count": 26,
   "id": "181ac7bb",
   "metadata": {},
   "outputs": [],
   "source": [
    "tfidf = TfidfModel(doc_term_matrix)"
   ]
  },
  {
   "cell_type": "code",
   "execution_count": 60,
   "id": "a55307ac",
   "metadata": {},
   "outputs": [
    {
     "name": "stdout",
     "output_type": "stream",
     "text": [
      "[=================================================-] 99.9% 957.9/958.4MB downloaded\n"
     ]
    }
   ],
   "source": [
    "fasttext_model300 = api.load('fasttext-wiki-news-subwords-300')"
   ]
  },
  {
   "cell_type": "code",
   "execution_count": 61,
   "id": "8663fb34",
   "metadata": {},
   "outputs": [
    {
     "name": "stderr",
     "output_type": "stream",
     "text": [
      "100%|███████████████████████████████████| 30255/30255 [29:32<00:00, 17.06it/s]\n"
     ]
    }
   ],
   "source": [
    "termsim_index = WordEmbeddingSimilarityIndex(fasttext_model300)\n",
    "termsim_matrix = SparseTermSimilarityMatrix(termsim_index, dict_, tfidf)\n"
   ]
  },
  {
   "cell_type": "code",
   "execution_count": 117,
   "id": "d358ac03",
   "metadata": {},
   "outputs": [],
   "source": [
    "termsim_matrix.save('termsim_matrix')"
   ]
  },
  {
   "cell_type": "code",
   "execution_count": 119,
   "id": "77507d46",
   "metadata": {},
   "outputs": [],
   "source": [
    "termsim_matrix = SparseTermSimilarityMatrix.load('termsim_matrix')"
   ]
  },
  {
   "cell_type": "markdown",
   "id": "27c68dc1",
   "metadata": {},
   "source": [
    "# Soft Cosine Measure"
   ]
  },
  {
   "cell_type": "code",
   "execution_count": 11,
   "id": "37d7a73c",
   "metadata": {},
   "outputs": [],
   "source": [
    "dict_ = Dictionary(df['LDA description'])\n",
    "termsim_matrix = SparseTermSimilarityMatrix.load('data/termsim_matrix')"
   ]
  },
  {
   "cell_type": "code",
   "execution_count": 12,
   "id": "e26fc28b",
   "metadata": {},
   "outputs": [],
   "source": [
    "new_input = \"Grown on clay-loam soils, with tough ironstone rocks running through, this wine is the most savory and brambly of Giant Steps's single-vineyard Pinots.A thicket of red and blueberry fruit entwines with white pepper and other savory spices, dried rosesand meaty bass notes. In the mouth, fleshy fruit is again met with lovely spice, cinched by fine tannins.There's freshness, structure and elegance here that makes this a complete wine now, but one that could cellar until around 2032.\"\n"
   ]
  },
  {
   "cell_type": "code",
   "execution_count": 24,
   "id": "5609001b",
   "metadata": {},
   "outputs": [],
   "source": [
    "def soft_cosine_measure_similarity(new_input:str, termsim_matrix, dictionary, k=10, sort_points=False):\n",
    "    new_vector = tfidf[dictionary.doc2bow(token_stop(new_input))]\n",
    "    similarity_scores = []\n",
    "    for i in range(len(vectors)):\n",
    "        similarity = termsim_matrix.inner_product(new_vector, vectors[i], normalized=(True, True))\n",
    "        similarity_scores.append((i,similarity))\n",
    "    top_k = sorted(similarity_scores, key=lambda x: x[1], reverse = True)[:k]\n",
    "    top_k_index = [tuple_[0] for tuple_ in top_k]\n",
    "    title_points = []\n",
    "    for index in top_k_index:\n",
    "        title_points.append((df.iloc[index]['title'], round(df.iloc[index]['normalized rating'],2)))\n",
    "    if sort_points:\n",
    "        print(f'{k} Most similar wines (descending order by similarity and points):')\n",
    "        sorted_title_points = sorted(title_points, key=lambda x: x[1], reverse = True)\n",
    "        for i, tuple_ in enumerate(sorted_title_points):\n",
    "            print(f'{i+1}. {tuple_[0]} ---- {tuple_[1]}')\n",
    "    else:   \n",
    "        print(f'{k} Most similar wines (descending order by similarity):')\n",
    "        for i, tuple_ in enumerate(title_points):\n",
    "            print(f'{i+1}. {tuple_[0]} ---- {tuple_[1]}')"
   ]
  },
  {
   "cell_type": "code",
   "execution_count": 25,
   "id": "0bf45752",
   "metadata": {},
   "outputs": [
    {
     "ename": "NameError",
     "evalue": "name 'vectors' is not defined",
     "output_type": "error",
     "traceback": [
      "\u001B[1;31m---------------------------------------------------------------------------\u001B[0m",
      "\u001B[1;31mNameError\u001B[0m                                 Traceback (most recent call last)",
      "\u001B[1;32m~\\AppData\\Local\\Temp\\ipykernel_21332\\1286054724.py\u001B[0m in \u001B[0;36m<module>\u001B[1;34m\u001B[0m\n\u001B[1;32m----> 1\u001B[1;33m \u001B[0msoft_cosine_measure_similarity\u001B[0m\u001B[1;33m(\u001B[0m\u001B[0mnew_input\u001B[0m\u001B[1;33m,\u001B[0m \u001B[0mtermsim_matrix\u001B[0m\u001B[1;33m,\u001B[0m \u001B[0mdict_\u001B[0m\u001B[1;33m,\u001B[0m \u001B[0msort_points\u001B[0m \u001B[1;33m=\u001B[0m \u001B[1;32mTrue\u001B[0m\u001B[1;33m)\u001B[0m\u001B[1;33m\u001B[0m\u001B[1;33m\u001B[0m\u001B[0m\n\u001B[0m",
      "\u001B[1;32m~\\AppData\\Local\\Temp\\ipykernel_21332\\3931638325.py\u001B[0m in \u001B[0;36msoft_cosine_measure_similarity\u001B[1;34m(new_input, termsim_matrix, dictionary, k, sort_points)\u001B[0m\n\u001B[0;32m      2\u001B[0m     \u001B[0mnew_vector\u001B[0m \u001B[1;33m=\u001B[0m \u001B[0mtfidf\u001B[0m\u001B[1;33m[\u001B[0m\u001B[0mdictionary\u001B[0m\u001B[1;33m.\u001B[0m\u001B[0mdoc2bow\u001B[0m\u001B[1;33m(\u001B[0m\u001B[0mtoken_stop\u001B[0m\u001B[1;33m(\u001B[0m\u001B[0mnew_input\u001B[0m\u001B[1;33m)\u001B[0m\u001B[1;33m)\u001B[0m\u001B[1;33m]\u001B[0m\u001B[1;33m\u001B[0m\u001B[1;33m\u001B[0m\u001B[0m\n\u001B[0;32m      3\u001B[0m     \u001B[0msimilarity_scores\u001B[0m \u001B[1;33m=\u001B[0m \u001B[1;33m[\u001B[0m\u001B[1;33m]\u001B[0m\u001B[1;33m\u001B[0m\u001B[1;33m\u001B[0m\u001B[0m\n\u001B[1;32m----> 4\u001B[1;33m     \u001B[1;32mfor\u001B[0m \u001B[0mi\u001B[0m \u001B[1;32min\u001B[0m \u001B[0mrange\u001B[0m\u001B[1;33m(\u001B[0m\u001B[0mlen\u001B[0m\u001B[1;33m(\u001B[0m\u001B[0mvectors\u001B[0m\u001B[1;33m)\u001B[0m\u001B[1;33m)\u001B[0m\u001B[1;33m:\u001B[0m\u001B[1;33m\u001B[0m\u001B[1;33m\u001B[0m\u001B[0m\n\u001B[0m\u001B[0;32m      5\u001B[0m         \u001B[0msimilarity\u001B[0m \u001B[1;33m=\u001B[0m \u001B[0mtermsim_matrix\u001B[0m\u001B[1;33m.\u001B[0m\u001B[0minner_product\u001B[0m\u001B[1;33m(\u001B[0m\u001B[0mnew_vector\u001B[0m\u001B[1;33m,\u001B[0m \u001B[0mvectors\u001B[0m\u001B[1;33m[\u001B[0m\u001B[0mi\u001B[0m\u001B[1;33m]\u001B[0m\u001B[1;33m,\u001B[0m \u001B[0mnormalized\u001B[0m\u001B[1;33m=\u001B[0m\u001B[1;33m(\u001B[0m\u001B[1;32mTrue\u001B[0m\u001B[1;33m,\u001B[0m \u001B[1;32mTrue\u001B[0m\u001B[1;33m)\u001B[0m\u001B[1;33m)\u001B[0m\u001B[1;33m\u001B[0m\u001B[1;33m\u001B[0m\u001B[0m\n\u001B[0;32m      6\u001B[0m         \u001B[0msimilarity_scores\u001B[0m\u001B[1;33m.\u001B[0m\u001B[0mappend\u001B[0m\u001B[1;33m(\u001B[0m\u001B[1;33m(\u001B[0m\u001B[0mi\u001B[0m\u001B[1;33m,\u001B[0m\u001B[0msimilarity\u001B[0m\u001B[1;33m)\u001B[0m\u001B[1;33m)\u001B[0m\u001B[1;33m\u001B[0m\u001B[1;33m\u001B[0m\u001B[0m\n",
      "\u001B[1;31mNameError\u001B[0m: name 'vectors' is not defined"
     ]
    }
   ],
   "source": [
    "soft_cosine_measure_similarity(new_input, termsim_matrix, dict_, sort_points = True)"
   ]
  },
  {
   "cell_type": "code",
   "execution_count": null,
   "id": "5e571a75",
   "metadata": {},
   "outputs": [],
   "source": []
  }
 ],
 "metadata": {
  "kernelspec": {
   "display_name": "Python 3 (ipykernel)",
   "language": "python",
   "name": "python3"
  },
  "language_info": {
   "codemirror_mode": {
    "name": "ipython",
    "version": 3
   },
   "file_extension": ".py",
   "mimetype": "text/x-python",
   "name": "python",
   "nbconvert_exporter": "python",
   "pygments_lexer": "ipython3",
   "version": "3.8.13"
  }
 },
 "nbformat": 4,
 "nbformat_minor": 5
}
