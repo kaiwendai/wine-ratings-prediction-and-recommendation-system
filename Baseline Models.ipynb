{
 "cells": [
  {
   "cell_type": "markdown",
   "metadata": {},
   "source": [
    "## Baseline Multiple Linear Regression"
   ]
  },
  {
   "cell_type": "markdown",
   "metadata": {},
   "source": [
    "## 1. Pacakge Installation"
   ]
  },
  {
   "cell_type": "code",
   "execution_count": 1,
   "metadata": {},
   "outputs": [],
   "source": [
    "import numpy as np\n",
    "import pandas as pd\n",
    "import tqdm\n",
    "import matplotlib.pyplot as plt\n",
    "import xgboost as xgb\n",
    "\n",
    "import statsmodels.api as sm\n",
    "from sklearn.preprocessing import OneHotEncoder\n",
    "from sklearn.linear_model import LinearRegression\n",
    "from sklearn.model_selection import train_test_split, cross_val_score, ShuffleSplit, RepeatedKFold\n",
    "from sklearn.metrics import mean_squared_error\n",
    "from sklearn.feature_selection import SelectFromModel\n",
    "from Preprocessing import preprocessor\n",
    "\n",
    "import warnings\n",
    "\n",
    "warnings.filterwarnings(\"ignore\")\n",
    "%config InlineBackend.figure_format='retina'"
   ]
  },
  {
   "cell_type": "markdown",
   "metadata": {},
   "source": [
    "## 2. Read In Data"
   ]
  },
  {
   "cell_type": "code",
   "execution_count": 2,
   "metadata": {},
   "outputs": [
    {
     "data": {
      "text/plain": "    country                                        description  \\\n0     Italy  Aromas include tropical fruit, broom, brimston...   \n1  Portugal  This is ripe and fruity, a wine that is smooth...   \n2        US  Tart and snappy, the flavors of lime flesh and...   \n3        US  Pineapple rind, lemon pith and orange blossom ...   \n4        US  Much like the regular bottling from 2012, this...   \n\n                          designation  points  price           province  \\\n0                        Vulkà Bianco      87   39.5  Sicily & Sardinia   \n1                            Avidagos      87   15.0              Douro   \n2                                None      87   14.0             Oregon   \n3                Reserve Late Harvest      87   13.0           Michigan   \n4  Vintner's Reserve Wild Child Block      87   65.0             Oregon   \n\n              region_1           region_2  \\\n0                 Etna               None   \n1                 None               None   \n2    Willamette Valley  Willamette Valley   \n3  Lake Michigan Shore               None   \n4    Willamette Valley  Willamette Valley   \n\n                                               title         variety  ...  \\\n0                  Nicosia 2013 Vulkà Bianco  (Etna)     White Blend  ...   \n1      Quinta dos Avidagos 2011 Avidagos Red (Douro)  Portuguese Red  ...   \n2      Rainstorm 2013 Pinot Gris (Willamette Valley)      Pinot Gris  ...   \n3  St. Julian 2013 Reserve Late Harvest Riesling ...        Riesling  ...   \n4  Sweet Cheeks 2012 Vintner's Reserve Wild Child...      Pinot Noir  ...   \n\n   130  131  132       133       134       135  136  137  138  139  \n0  0.0  0.0  0.0  0.000000  0.000000  0.000000  0.0  0.0  0.0  0.0  \n1  0.0  0.0  0.0  0.000000  0.000000  0.000000  0.0  0.0  0.0  0.0  \n2  0.0  0.0  0.0  0.081144  0.000000  0.000000  0.0  0.0  0.0  0.0  \n3  0.0  0.0  0.0  0.349908  0.092807  0.000000  0.0  0.0  0.0  0.0  \n4  0.0  0.0  0.0  0.000000  0.000000  0.048212  0.0  0.0  0.0  0.0  \n\n[5 rows x 160 columns]",
      "text/html": "<div>\n<style scoped>\n    .dataframe tbody tr th:only-of-type {\n        vertical-align: middle;\n    }\n\n    .dataframe tbody tr th {\n        vertical-align: top;\n    }\n\n    .dataframe thead th {\n        text-align: right;\n    }\n</style>\n<table border=\"1\" class=\"dataframe\">\n  <thead>\n    <tr style=\"text-align: right;\">\n      <th></th>\n      <th>country</th>\n      <th>description</th>\n      <th>designation</th>\n      <th>points</th>\n      <th>price</th>\n      <th>province</th>\n      <th>region_1</th>\n      <th>region_2</th>\n      <th>title</th>\n      <th>variety</th>\n      <th>...</th>\n      <th>130</th>\n      <th>131</th>\n      <th>132</th>\n      <th>133</th>\n      <th>134</th>\n      <th>135</th>\n      <th>136</th>\n      <th>137</th>\n      <th>138</th>\n      <th>139</th>\n    </tr>\n  </thead>\n  <tbody>\n    <tr>\n      <th>0</th>\n      <td>Italy</td>\n      <td>Aromas include tropical fruit, broom, brimston...</td>\n      <td>Vulkà Bianco</td>\n      <td>87</td>\n      <td>39.5</td>\n      <td>Sicily &amp; Sardinia</td>\n      <td>Etna</td>\n      <td>None</td>\n      <td>Nicosia 2013 Vulkà Bianco  (Etna)</td>\n      <td>White Blend</td>\n      <td>...</td>\n      <td>0.0</td>\n      <td>0.0</td>\n      <td>0.0</td>\n      <td>0.000000</td>\n      <td>0.000000</td>\n      <td>0.000000</td>\n      <td>0.0</td>\n      <td>0.0</td>\n      <td>0.0</td>\n      <td>0.0</td>\n    </tr>\n    <tr>\n      <th>1</th>\n      <td>Portugal</td>\n      <td>This is ripe and fruity, a wine that is smooth...</td>\n      <td>Avidagos</td>\n      <td>87</td>\n      <td>15.0</td>\n      <td>Douro</td>\n      <td>None</td>\n      <td>None</td>\n      <td>Quinta dos Avidagos 2011 Avidagos Red (Douro)</td>\n      <td>Portuguese Red</td>\n      <td>...</td>\n      <td>0.0</td>\n      <td>0.0</td>\n      <td>0.0</td>\n      <td>0.000000</td>\n      <td>0.000000</td>\n      <td>0.000000</td>\n      <td>0.0</td>\n      <td>0.0</td>\n      <td>0.0</td>\n      <td>0.0</td>\n    </tr>\n    <tr>\n      <th>2</th>\n      <td>US</td>\n      <td>Tart and snappy, the flavors of lime flesh and...</td>\n      <td>None</td>\n      <td>87</td>\n      <td>14.0</td>\n      <td>Oregon</td>\n      <td>Willamette Valley</td>\n      <td>Willamette Valley</td>\n      <td>Rainstorm 2013 Pinot Gris (Willamette Valley)</td>\n      <td>Pinot Gris</td>\n      <td>...</td>\n      <td>0.0</td>\n      <td>0.0</td>\n      <td>0.0</td>\n      <td>0.081144</td>\n      <td>0.000000</td>\n      <td>0.000000</td>\n      <td>0.0</td>\n      <td>0.0</td>\n      <td>0.0</td>\n      <td>0.0</td>\n    </tr>\n    <tr>\n      <th>3</th>\n      <td>US</td>\n      <td>Pineapple rind, lemon pith and orange blossom ...</td>\n      <td>Reserve Late Harvest</td>\n      <td>87</td>\n      <td>13.0</td>\n      <td>Michigan</td>\n      <td>Lake Michigan Shore</td>\n      <td>None</td>\n      <td>St. Julian 2013 Reserve Late Harvest Riesling ...</td>\n      <td>Riesling</td>\n      <td>...</td>\n      <td>0.0</td>\n      <td>0.0</td>\n      <td>0.0</td>\n      <td>0.349908</td>\n      <td>0.092807</td>\n      <td>0.000000</td>\n      <td>0.0</td>\n      <td>0.0</td>\n      <td>0.0</td>\n      <td>0.0</td>\n    </tr>\n    <tr>\n      <th>4</th>\n      <td>US</td>\n      <td>Much like the regular bottling from 2012, this...</td>\n      <td>Vintner's Reserve Wild Child Block</td>\n      <td>87</td>\n      <td>65.0</td>\n      <td>Oregon</td>\n      <td>Willamette Valley</td>\n      <td>Willamette Valley</td>\n      <td>Sweet Cheeks 2012 Vintner's Reserve Wild Child...</td>\n      <td>Pinot Noir</td>\n      <td>...</td>\n      <td>0.0</td>\n      <td>0.0</td>\n      <td>0.0</td>\n      <td>0.000000</td>\n      <td>0.000000</td>\n      <td>0.048212</td>\n      <td>0.0</td>\n      <td>0.0</td>\n      <td>0.0</td>\n      <td>0.0</td>\n    </tr>\n  </tbody>\n</table>\n<p>5 rows × 160 columns</p>\n</div>"
     },
     "execution_count": 2,
     "metadata": {},
     "output_type": "execute_result"
    }
   ],
   "source": [
    "df_wine = pd.read_csv('data/df_wine_clean.csv')\n",
    "df_wine = df_wine.iloc[:,1:]\n",
    "df_wine.head()"
   ]
  },
  {
   "cell_type": "code",
   "execution_count": null,
   "metadata": {},
   "outputs": [],
   "source": [
    "df_wine.shape"
   ]
  },
  {
   "cell_type": "code",
   "execution_count": null,
   "metadata": {},
   "outputs": [],
   "source": [
    "df_california = df_wine[df_wine['province'] == 'California'][['province', 'normalized rating']]\n",
    "df_others = df_wine[df_wine['province'] != 'California'][['province', 'normalized rating']]\n",
    "df_others['province'] = ['Others' for i in df_others['province']]"
   ]
  },
  {
   "cell_type": "code",
   "execution_count": null,
   "metadata": {},
   "outputs": [],
   "source": [
    "import seaborn as sns\n",
    "fig, ax = plt.subplots()\n",
    "ax = sns.violinplot(x='province', y='normalized rating', data=pd.concat([df_california, df_others], axis=0))\n",
    "fig.show()"
   ]
  },
  {
   "cell_type": "markdown",
   "metadata": {},
   "source": [
    "## 3. Apply MLR"
   ]
  },
  {
   "cell_type": "code",
   "execution_count": 3,
   "metadata": {},
   "outputs": [],
   "source": [
    "X = df_wine[['year', 'price']]\n",
    "y = df_wine['normalized rating']"
   ]
  },
  {
   "cell_type": "code",
   "execution_count": null,
   "metadata": {},
   "outputs": [],
   "source": [
    "%%time\n",
    "mlr = LinearRegression()\n",
    "cv = ShuffleSplit(n_splits=5, test_size=0.2)\n",
    "scores = cross_val_score(mlr, preprocessor(X), y, cv=cv, scoring='neg_root_mean_squared_error')\n",
    "print(f'The model has a mean RMSE: {-np.mean(scores)}, with standard deviation: {np.std(scores)}')"
   ]
  },
  {
   "cell_type": "code",
   "execution_count": 4,
   "outputs": [
    {
     "data": {
      "text/plain": "<class 'statsmodels.iolib.summary.Summary'>\n\"\"\"\n                            OLS Regression Results                            \n==============================================================================\nDep. Variable:      normalized rating   R-squared:                       0.179\nModel:                            OLS   Adj. R-squared:                  0.179\nMethod:                 Least Squares   F-statistic:                 1.309e+04\nDate:                Sat, 17 Dec 2022   Prob (F-statistic):               0.00\nTime:                        18:51:05   Log-Likelihood:            -1.9799e+05\nNo. Observations:              119928   AIC:                         3.960e+05\nDf Residuals:                  119925   BIC:                         3.960e+05\nDf Model:                           2                                         \nCovariance Type:            nonrobust                                         \n==============================================================================\n                 coef    std err          t      P>|t|      [0.025      0.975]\n------------------------------------------------------------------------------\nconst        -66.9383      2.018    -33.172      0.000     -70.893     -62.983\nyear           0.0354      0.001     35.300      0.000       0.033       0.037\nprice          0.0144   8.98e-05    160.650      0.000       0.014       0.015\n==============================================================================\nOmnibus:                    53124.537   Durbin-Watson:                   0.374\nProb(Omnibus):                  0.000   Jarque-Bera (JB):          4476134.595\nSkew:                          -1.237   Prob(JB):                         0.00\nKurtosis:                      32.827   Cond. No.                     1.11e+06\n==============================================================================\n\nNotes:\n[1] Standard Errors assume that the covariance matrix of the errors is correctly specified.\n[2] The condition number is large, 1.11e+06. This might indicate that there are\nstrong multicollinearity or other numerical problems.\n\"\"\"",
      "text/html": "<table class=\"simpletable\">\n<caption>OLS Regression Results</caption>\n<tr>\n  <th>Dep. Variable:</th>    <td>normalized rating</td> <th>  R-squared:         </th>  <td>   0.179</td>  \n</tr>\n<tr>\n  <th>Model:</th>                   <td>OLS</td>        <th>  Adj. R-squared:    </th>  <td>   0.179</td>  \n</tr>\n<tr>\n  <th>Method:</th>             <td>Least Squares</td>   <th>  F-statistic:       </th>  <td>1.309e+04</td> \n</tr>\n<tr>\n  <th>Date:</th>             <td>Sat, 17 Dec 2022</td>  <th>  Prob (F-statistic):</th>   <td>  0.00</td>   \n</tr>\n<tr>\n  <th>Time:</th>                 <td>18:51:05</td>      <th>  Log-Likelihood:    </th> <td>-1.9799e+05</td>\n</tr>\n<tr>\n  <th>No. Observations:</th>      <td>119928</td>       <th>  AIC:               </th>  <td>3.960e+05</td> \n</tr>\n<tr>\n  <th>Df Residuals:</th>          <td>119925</td>       <th>  BIC:               </th>  <td>3.960e+05</td> \n</tr>\n<tr>\n  <th>Df Model:</th>              <td>     2</td>       <th>                     </th>      <td> </td>     \n</tr>\n<tr>\n  <th>Covariance Type:</th>      <td>nonrobust</td>     <th>                     </th>      <td> </td>     \n</tr>\n</table>\n<table class=\"simpletable\">\n<tr>\n    <td></td>       <th>coef</th>     <th>std err</th>      <th>t</th>      <th>P>|t|</th>  <th>[0.025</th>    <th>0.975]</th>  \n</tr>\n<tr>\n  <th>const</th> <td>  -66.9383</td> <td>    2.018</td> <td>  -33.172</td> <td> 0.000</td> <td>  -70.893</td> <td>  -62.983</td>\n</tr>\n<tr>\n  <th>year</th>  <td>    0.0354</td> <td>    0.001</td> <td>   35.300</td> <td> 0.000</td> <td>    0.033</td> <td>    0.037</td>\n</tr>\n<tr>\n  <th>price</th> <td>    0.0144</td> <td> 8.98e-05</td> <td>  160.650</td> <td> 0.000</td> <td>    0.014</td> <td>    0.015</td>\n</tr>\n</table>\n<table class=\"simpletable\">\n<tr>\n  <th>Omnibus:</th>       <td>53124.537</td> <th>  Durbin-Watson:     </th>  <td>   0.374</td>  \n</tr>\n<tr>\n  <th>Prob(Omnibus):</th>  <td> 0.000</td>   <th>  Jarque-Bera (JB):  </th> <td>4476134.595</td>\n</tr>\n<tr>\n  <th>Skew:</th>           <td>-1.237</td>   <th>  Prob(JB):          </th>  <td>    0.00</td>  \n</tr>\n<tr>\n  <th>Kurtosis:</th>       <td>32.827</td>   <th>  Cond. No.          </th>  <td>1.11e+06</td>  \n</tr>\n</table><br/><br/>Notes:<br/>[1] Standard Errors assume that the covariance matrix of the errors is correctly specified.<br/>[2] The condition number is large, 1.11e+06. This might indicate that there are<br/>strong multicollinearity or other numerical problems."
     },
     "execution_count": 4,
     "metadata": {},
     "output_type": "execute_result"
    }
   ],
   "source": [
    "X = sm.add_constant(X)\n",
    "md1 = sm.OLS(endog=y, exog=X).fit()\n",
    "md1.summary()"
   ],
   "metadata": {
    "collapsed": false
   }
  },
  {
   "cell_type": "markdown",
   "metadata": {},
   "source": [
    "## 4. Baseline XGBOOST"
   ]
  },
  {
   "cell_type": "code",
   "execution_count": null,
   "metadata": {},
   "outputs": [],
   "source": [
    "%%time\n",
    "model_xgb = xgb.XGBRegressor()\n",
    "cv = ShuffleSplit(n_splits=5, test_size=0.2)\n",
    "scores = cross_val_score(model_xgb, preprocessor(X), y, cv=cv, scoring='neg_root_mean_squared_error')\n",
    "print(f'The model has a mean RMSE: {-np.mean(scores)}, with standard deviation: {np.std(scores)}')"
   ]
  },
  {
   "cell_type": "code",
   "execution_count": null,
   "metadata": {},
   "outputs": [],
   "source": [
    "df_wine = pd.read_csv('data/df_wine_ready.csv')\n",
    "df_wine = df_wine.iloc[:,1:]\n",
    "X, y = df_wine.iloc[:, 1:], df_wine.iloc[:, 0]"
   ]
  },
  {
   "cell_type": "code",
   "execution_count": null,
   "metadata": {},
   "outputs": [],
   "source": [
    "%%time\n",
    "model_xgb = xgb.XGBRegressor(objective ='reg:squarederror', tree_method = 'gpu_hist')\n",
    "cv = ShuffleSplit(n_splits=5, test_size=0.2)\n",
    "scores = cross_val_score(model_xgb, X, y, cv=cv, scoring='neg_root_mean_squared_error')\n",
    "print(f'The model has a mean RMSE: {-np.mean(scores)}, with standard deviation: {np.std(scores)}')"
   ]
  },
  {
   "cell_type": "code",
   "execution_count": null,
   "metadata": {},
   "outputs": [],
   "source": [
    "X"
   ]
  },
  {
   "cell_type": "code",
   "execution_count": null,
   "metadata": {},
   "outputs": [],
   "source": []
  }
 ],
 "metadata": {
  "kernelspec": {
   "display_name": "Python 3 (ipykernel)",
   "language": "python",
   "name": "python3"
  },
  "language_info": {
   "codemirror_mode": {
    "name": "ipython",
    "version": 3
   },
   "file_extension": ".py",
   "mimetype": "text/x-python",
   "name": "python",
   "nbconvert_exporter": "python",
   "pygments_lexer": "ipython3",
   "version": "3.9.13"
  }
 },
 "nbformat": 4,
 "nbformat_minor": 1
}
