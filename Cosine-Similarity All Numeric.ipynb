{
 "cells": [
  {
   "cell_type": "markdown",
   "source": [
    "## 1. Package Installation"
   ],
   "metadata": {
    "collapsed": false
   }
  },
  {
   "cell_type": "code",
   "execution_count": 114,
   "outputs": [],
   "source": [
    "import pandas as pd\n",
    "import numpy as np\n",
    "import warnings\n",
    "import seaborn as sns\n",
    "import matplotlib.pyplot as plt\n",
    "import ast\n",
    "import gensim\n",
    "from gensim.models import LdaModel\n",
    "from gensim import models, corpora, similarities\n",
    "import scipy.spatial as sp\n",
    "from sklearn.preprocessing import OneHotEncoder\n",
    "from Preprocessing import clean, token_stop, vader_score, getPolarity\n",
    "from New_Data_Process import continent\n",
    "import xgboost as xgb\n",
    "import pickle\n",
    "import json\n",
    "\n",
    "\n",
    "warnings.filterwarnings('ignore')\n",
    "%config InlineBackend.figure_format='retina'"
   ],
   "metadata": {
    "collapsed": false
   }
  },
  {
   "cell_type": "markdown",
   "source": [
    "## 2. Read in Data"
   ],
   "metadata": {
    "collapsed": false
   }
  },
  {
   "cell_type": "code",
   "execution_count": 28,
   "outputs": [
    {
     "data": {
      "text/plain": "    country                                        description  \\\n0     Italy  Aromas include tropical fruit, broom, brimston...   \n1  Portugal  This is ripe and fruity, a wine that is smooth...   \n2        US  Tart and snappy, the flavors of lime flesh and...   \n3        US  Pineapple rind, lemon pith and orange blossom ...   \n4        US  Much like the regular bottling from 2012, this...   \n\n                          designation  points  price           province  \\\n0                        Vulkà Bianco      87   39.5  Sicily & Sardinia   \n1                            Avidagos      87   15.0              Douro   \n2                                None      87   14.0             Oregon   \n3                Reserve Late Harvest      87   13.0           Michigan   \n4  Vintner's Reserve Wild Child Block      87   65.0             Oregon   \n\n              region_1           region_2  \\\n0                 Etna               None   \n1                 None               None   \n2    Willamette Valley  Willamette Valley   \n3  Lake Michigan Shore               None   \n4    Willamette Valley  Willamette Valley   \n\n                                               title         variety  ...  \\\n0                  Nicosia 2013 Vulkà Bianco  (Etna)     White Blend  ...   \n1      Quinta dos Avidagos 2011 Avidagos Red (Douro)  Portuguese Red  ...   \n2      Rainstorm 2013 Pinot Gris (Willamette Valley)      Pinot Gris  ...   \n3  St. Julian 2013 Reserve Late Harvest Riesling ...        Riesling  ...   \n4  Sweet Cheeks 2012 Vintner's Reserve Wild Child...      Pinot Noir  ...   \n\n   130  131  132       133       134       135  136  137  138  139  \n0  0.0  0.0  0.0  0.000000  0.000000  0.000000  0.0  0.0  0.0  0.0  \n1  0.0  0.0  0.0  0.000000  0.000000  0.000000  0.0  0.0  0.0  0.0  \n2  0.0  0.0  0.0  0.081144  0.000000  0.000000  0.0  0.0  0.0  0.0  \n3  0.0  0.0  0.0  0.349908  0.092807  0.000000  0.0  0.0  0.0  0.0  \n4  0.0  0.0  0.0  0.000000  0.000000  0.048212  0.0  0.0  0.0  0.0  \n\n[5 rows x 160 columns]",
      "text/html": "<div>\n<style scoped>\n    .dataframe tbody tr th:only-of-type {\n        vertical-align: middle;\n    }\n\n    .dataframe tbody tr th {\n        vertical-align: top;\n    }\n\n    .dataframe thead th {\n        text-align: right;\n    }\n</style>\n<table border=\"1\" class=\"dataframe\">\n  <thead>\n    <tr style=\"text-align: right;\">\n      <th></th>\n      <th>country</th>\n      <th>description</th>\n      <th>designation</th>\n      <th>points</th>\n      <th>price</th>\n      <th>province</th>\n      <th>region_1</th>\n      <th>region_2</th>\n      <th>title</th>\n      <th>variety</th>\n      <th>...</th>\n      <th>130</th>\n      <th>131</th>\n      <th>132</th>\n      <th>133</th>\n      <th>134</th>\n      <th>135</th>\n      <th>136</th>\n      <th>137</th>\n      <th>138</th>\n      <th>139</th>\n    </tr>\n  </thead>\n  <tbody>\n    <tr>\n      <th>0</th>\n      <td>Italy</td>\n      <td>Aromas include tropical fruit, broom, brimston...</td>\n      <td>Vulkà Bianco</td>\n      <td>87</td>\n      <td>39.5</td>\n      <td>Sicily &amp; Sardinia</td>\n      <td>Etna</td>\n      <td>None</td>\n      <td>Nicosia 2013 Vulkà Bianco  (Etna)</td>\n      <td>White Blend</td>\n      <td>...</td>\n      <td>0.0</td>\n      <td>0.0</td>\n      <td>0.0</td>\n      <td>0.000000</td>\n      <td>0.000000</td>\n      <td>0.000000</td>\n      <td>0.0</td>\n      <td>0.0</td>\n      <td>0.0</td>\n      <td>0.0</td>\n    </tr>\n    <tr>\n      <th>1</th>\n      <td>Portugal</td>\n      <td>This is ripe and fruity, a wine that is smooth...</td>\n      <td>Avidagos</td>\n      <td>87</td>\n      <td>15.0</td>\n      <td>Douro</td>\n      <td>None</td>\n      <td>None</td>\n      <td>Quinta dos Avidagos 2011 Avidagos Red (Douro)</td>\n      <td>Portuguese Red</td>\n      <td>...</td>\n      <td>0.0</td>\n      <td>0.0</td>\n      <td>0.0</td>\n      <td>0.000000</td>\n      <td>0.000000</td>\n      <td>0.000000</td>\n      <td>0.0</td>\n      <td>0.0</td>\n      <td>0.0</td>\n      <td>0.0</td>\n    </tr>\n    <tr>\n      <th>2</th>\n      <td>US</td>\n      <td>Tart and snappy, the flavors of lime flesh and...</td>\n      <td>None</td>\n      <td>87</td>\n      <td>14.0</td>\n      <td>Oregon</td>\n      <td>Willamette Valley</td>\n      <td>Willamette Valley</td>\n      <td>Rainstorm 2013 Pinot Gris (Willamette Valley)</td>\n      <td>Pinot Gris</td>\n      <td>...</td>\n      <td>0.0</td>\n      <td>0.0</td>\n      <td>0.0</td>\n      <td>0.081144</td>\n      <td>0.000000</td>\n      <td>0.000000</td>\n      <td>0.0</td>\n      <td>0.0</td>\n      <td>0.0</td>\n      <td>0.0</td>\n    </tr>\n    <tr>\n      <th>3</th>\n      <td>US</td>\n      <td>Pineapple rind, lemon pith and orange blossom ...</td>\n      <td>Reserve Late Harvest</td>\n      <td>87</td>\n      <td>13.0</td>\n      <td>Michigan</td>\n      <td>Lake Michigan Shore</td>\n      <td>None</td>\n      <td>St. Julian 2013 Reserve Late Harvest Riesling ...</td>\n      <td>Riesling</td>\n      <td>...</td>\n      <td>0.0</td>\n      <td>0.0</td>\n      <td>0.0</td>\n      <td>0.349908</td>\n      <td>0.092807</td>\n      <td>0.000000</td>\n      <td>0.0</td>\n      <td>0.0</td>\n      <td>0.0</td>\n      <td>0.0</td>\n    </tr>\n    <tr>\n      <th>4</th>\n      <td>US</td>\n      <td>Much like the regular bottling from 2012, this...</td>\n      <td>Vintner's Reserve Wild Child Block</td>\n      <td>87</td>\n      <td>65.0</td>\n      <td>Oregon</td>\n      <td>Willamette Valley</td>\n      <td>Willamette Valley</td>\n      <td>Sweet Cheeks 2012 Vintner's Reserve Wild Child...</td>\n      <td>Pinot Noir</td>\n      <td>...</td>\n      <td>0.0</td>\n      <td>0.0</td>\n      <td>0.0</td>\n      <td>0.000000</td>\n      <td>0.000000</td>\n      <td>0.048212</td>\n      <td>0.0</td>\n      <td>0.0</td>\n      <td>0.0</td>\n      <td>0.0</td>\n    </tr>\n  </tbody>\n</table>\n<p>5 rows × 160 columns</p>\n</div>"
     },
     "execution_count": 28,
     "metadata": {},
     "output_type": "execute_result"
    }
   ],
   "source": [
    "df_wine = pd.read_csv('data/df_wine_clean_no.csv').iloc[:, 1:]\n",
    "df_wine.head()"
   ],
   "metadata": {
    "collapsed": false
   }
  },
  {
   "cell_type": "code",
   "execution_count": 25,
   "outputs": [
    {
     "data": {
      "text/plain": "   normalized rating     price  positive   neutral  negative  compound  \\\n0               4.15  0.128299 -0.810436  0.960002 -0.449336 -0.826123   \n1               4.15 -0.599151 -0.041276  0.189796 -0.449336 -0.197066   \n2               4.15 -0.628843 -1.359328  1.047161  0.950410 -1.363137   \n3               4.15 -0.658535 -0.810436  0.960002 -0.449336 -0.405175   \n4               4.15  0.885442  0.537814 -0.390081 -0.449336  1.260598   \n\n          0         1         2         3  ...      2006      2007      2008  \\\n0 -0.171051 -0.204186 -0.131139  3.833288  ... -0.220587 -0.244376 -0.258417   \n1 -0.171051 -0.204186 -0.131139 -0.203453  ... -0.220587 -0.244376 -0.258417   \n2 -0.171051 -0.204186 -0.131139 -0.203453  ... -0.220587 -0.244376 -0.258417   \n3 -0.171051 -0.204186 -0.131139 -0.203453  ... -0.220587 -0.244376 -0.258417   \n4 -0.171051 -0.204186 -0.131139 -0.203453  ... -0.220587 -0.244376 -0.258417   \n\n    2010      2011      2012      2013      2014      2015      2016  \n0 -0.332 -0.340314 -0.386675  2.664482 -0.364692 -0.284207 -0.168551  \n1 -0.332  2.938463 -0.386675 -0.375307 -0.364692 -0.284207 -0.168551  \n2 -0.332 -0.340314 -0.386675  2.664482 -0.364692 -0.284207 -0.168551  \n3 -0.332 -0.340314 -0.386675  2.664482 -0.364692 -0.284207 -0.168551  \n4 -0.332 -0.340314  2.586152 -0.375307 -0.364692 -0.284207 -0.168551  \n\n[5 rows x 400 columns]",
      "text/html": "<div>\n<style scoped>\n    .dataframe tbody tr th:only-of-type {\n        vertical-align: middle;\n    }\n\n    .dataframe tbody tr th {\n        vertical-align: top;\n    }\n\n    .dataframe thead th {\n        text-align: right;\n    }\n</style>\n<table border=\"1\" class=\"dataframe\">\n  <thead>\n    <tr style=\"text-align: right;\">\n      <th></th>\n      <th>normalized rating</th>\n      <th>price</th>\n      <th>positive</th>\n      <th>neutral</th>\n      <th>negative</th>\n      <th>compound</th>\n      <th>0</th>\n      <th>1</th>\n      <th>2</th>\n      <th>3</th>\n      <th>...</th>\n      <th>2006</th>\n      <th>2007</th>\n      <th>2008</th>\n      <th>2010</th>\n      <th>2011</th>\n      <th>2012</th>\n      <th>2013</th>\n      <th>2014</th>\n      <th>2015</th>\n      <th>2016</th>\n    </tr>\n  </thead>\n  <tbody>\n    <tr>\n      <th>0</th>\n      <td>4.15</td>\n      <td>0.128299</td>\n      <td>-0.810436</td>\n      <td>0.960002</td>\n      <td>-0.449336</td>\n      <td>-0.826123</td>\n      <td>-0.171051</td>\n      <td>-0.204186</td>\n      <td>-0.131139</td>\n      <td>3.833288</td>\n      <td>...</td>\n      <td>-0.220587</td>\n      <td>-0.244376</td>\n      <td>-0.258417</td>\n      <td>-0.332</td>\n      <td>-0.340314</td>\n      <td>-0.386675</td>\n      <td>2.664482</td>\n      <td>-0.364692</td>\n      <td>-0.284207</td>\n      <td>-0.168551</td>\n    </tr>\n    <tr>\n      <th>1</th>\n      <td>4.15</td>\n      <td>-0.599151</td>\n      <td>-0.041276</td>\n      <td>0.189796</td>\n      <td>-0.449336</td>\n      <td>-0.197066</td>\n      <td>-0.171051</td>\n      <td>-0.204186</td>\n      <td>-0.131139</td>\n      <td>-0.203453</td>\n      <td>...</td>\n      <td>-0.220587</td>\n      <td>-0.244376</td>\n      <td>-0.258417</td>\n      <td>-0.332</td>\n      <td>2.938463</td>\n      <td>-0.386675</td>\n      <td>-0.375307</td>\n      <td>-0.364692</td>\n      <td>-0.284207</td>\n      <td>-0.168551</td>\n    </tr>\n    <tr>\n      <th>2</th>\n      <td>4.15</td>\n      <td>-0.628843</td>\n      <td>-1.359328</td>\n      <td>1.047161</td>\n      <td>0.950410</td>\n      <td>-1.363137</td>\n      <td>-0.171051</td>\n      <td>-0.204186</td>\n      <td>-0.131139</td>\n      <td>-0.203453</td>\n      <td>...</td>\n      <td>-0.220587</td>\n      <td>-0.244376</td>\n      <td>-0.258417</td>\n      <td>-0.332</td>\n      <td>-0.340314</td>\n      <td>-0.386675</td>\n      <td>2.664482</td>\n      <td>-0.364692</td>\n      <td>-0.284207</td>\n      <td>-0.168551</td>\n    </tr>\n    <tr>\n      <th>3</th>\n      <td>4.15</td>\n      <td>-0.658535</td>\n      <td>-0.810436</td>\n      <td>0.960002</td>\n      <td>-0.449336</td>\n      <td>-0.405175</td>\n      <td>-0.171051</td>\n      <td>-0.204186</td>\n      <td>-0.131139</td>\n      <td>-0.203453</td>\n      <td>...</td>\n      <td>-0.220587</td>\n      <td>-0.244376</td>\n      <td>-0.258417</td>\n      <td>-0.332</td>\n      <td>-0.340314</td>\n      <td>-0.386675</td>\n      <td>2.664482</td>\n      <td>-0.364692</td>\n      <td>-0.284207</td>\n      <td>-0.168551</td>\n    </tr>\n    <tr>\n      <th>4</th>\n      <td>4.15</td>\n      <td>0.885442</td>\n      <td>0.537814</td>\n      <td>-0.390081</td>\n      <td>-0.449336</td>\n      <td>1.260598</td>\n      <td>-0.171051</td>\n      <td>-0.204186</td>\n      <td>-0.131139</td>\n      <td>-0.203453</td>\n      <td>...</td>\n      <td>-0.220587</td>\n      <td>-0.244376</td>\n      <td>-0.258417</td>\n      <td>-0.332</td>\n      <td>-0.340314</td>\n      <td>2.586152</td>\n      <td>-0.375307</td>\n      <td>-0.364692</td>\n      <td>-0.284207</td>\n      <td>-0.168551</td>\n    </tr>\n  </tbody>\n</table>\n<p>5 rows × 400 columns</p>\n</div>"
     },
     "execution_count": 25,
     "metadata": {},
     "output_type": "execute_result"
    }
   ],
   "source": [
    "df_wine_400 = pd.read_csv('data/df_wine_ready_400.csv').iloc[:, 1:]\n",
    "df_wine_400.head()"
   ],
   "metadata": {
    "collapsed": false
   }
  },
  {
   "cell_type": "code",
   "execution_count": 113,
   "outputs": [],
   "source": [
    "# 'price', 'positive', 'neutral', 'negative', 'compound', topic 0-139\n",
    "scaler = pickle.load(open('models/scaler_without_ohe.pkl','rb'))"
   ],
   "metadata": {
    "collapsed": false
   }
  },
  {
   "cell_type": "code",
   "execution_count": 29,
   "outputs": [],
   "source": [
    "lda = LdaModel.load('models/topic modeling/optimal_ldamodel')\n",
    "dictionary = corpora.Dictionary.load('models/topic modeling/optimal_ldamodel.id2word')\n",
    "df_wine['LDA description'] = [ast.literal_eval(text) for text in df_wine['LDA description']]\n",
    "corpus = [dictionary.doc2bow(text) for text in df_wine['LDA description']]"
   ],
   "metadata": {
    "collapsed": false
   }
  },
  {
   "cell_type": "markdown",
   "source": [
    "## 3. Input a New Data Point and Processed(Prototype)"
   ],
   "metadata": {
    "collapsed": false
   }
  },
  {
   "cell_type": "code",
   "execution_count": null,
   "outputs": [],
   "source": [
    "# save the value for 0 and 1 after standardizing\n",
    "'''\n",
    "ohe_reference = {i: sorted(list(set(df_wine_400[i]))) for i in list(df_wine_400.columns)[146:]}\n",
    "\n",
    "with open(\"data/ohe_reference.json\", \"w\") as outfile:\n",
    "    json.dump(ohe_reference, outfile)\n",
    "'''"
   ],
   "metadata": {
    "collapsed": false
   }
  },
  {
   "cell_type": "code",
   "execution_count": 128,
   "outputs": [
    {
     "data": {
      "text/plain": "      price  positive   neutral  negative  compound         0         1  \\\n0 -0.510076 -0.357467  0.506417 -0.449336 -0.780777 -0.171051  0.717333   \n\n          2         3         4  ...      2006      2007      2008   2010  \\\n0 -0.131139 -0.203453 -0.234454  ... -0.220587 -0.244376 -0.258417 -0.332   \n\n       2011      2012      2013      2014      2015      2016  \n0 -0.340314 -0.386675 -0.375307 -0.364692 -0.284207 -0.168551  \n\n[1 rows x 399 columns]",
      "text/html": "<div>\n<style scoped>\n    .dataframe tbody tr th:only-of-type {\n        vertical-align: middle;\n    }\n\n    .dataframe tbody tr th {\n        vertical-align: top;\n    }\n\n    .dataframe thead th {\n        text-align: right;\n    }\n</style>\n<table border=\"1\" class=\"dataframe\">\n  <thead>\n    <tr style=\"text-align: right;\">\n      <th></th>\n      <th>price</th>\n      <th>positive</th>\n      <th>neutral</th>\n      <th>negative</th>\n      <th>compound</th>\n      <th>0</th>\n      <th>1</th>\n      <th>2</th>\n      <th>3</th>\n      <th>4</th>\n      <th>...</th>\n      <th>2006</th>\n      <th>2007</th>\n      <th>2008</th>\n      <th>2010</th>\n      <th>2011</th>\n      <th>2012</th>\n      <th>2013</th>\n      <th>2014</th>\n      <th>2015</th>\n      <th>2016</th>\n    </tr>\n  </thead>\n  <tbody>\n    <tr>\n      <th>0</th>\n      <td>-0.510076</td>\n      <td>-0.357467</td>\n      <td>0.506417</td>\n      <td>-0.449336</td>\n      <td>-0.780777</td>\n      <td>-0.171051</td>\n      <td>0.717333</td>\n      <td>-0.131139</td>\n      <td>-0.203453</td>\n      <td>-0.234454</td>\n      <td>...</td>\n      <td>-0.220587</td>\n      <td>-0.244376</td>\n      <td>-0.258417</td>\n      <td>-0.332</td>\n      <td>-0.340314</td>\n      <td>-0.386675</td>\n      <td>-0.375307</td>\n      <td>-0.364692</td>\n      <td>-0.284207</td>\n      <td>-0.168551</td>\n    </tr>\n  </tbody>\n</table>\n<p>1 rows × 399 columns</p>\n</div>"
     },
     "execution_count": 128,
     "metadata": {},
     "output_type": "execute_result"
    }
   ],
   "source": [
    "# input a new data point\n",
    "new_data = pd.DataFrame({'price': [18],\n",
    "                         'description': \"There are oodles of crowd-pleasing floral and fruit aromas on this Semillon-Sauvignon blend. Honeysuckle, lime blossom, peach and lemon drops are underpinned by gingery spice. The palate is weightier than one might expect, although it's still in the light-to medium-bodied spectrum. Flavors are delicate but persistent. There's freshness and a pretty, summer-sipping vibe. Drink now.\",\n",
    "                         'country': 'Australia',\n",
    "                         'province': 'South Australia',\n",
    "                         'variety': 'Semillon-Sauvignon Blanc',\n",
    "                         'year': '2021'})\n",
    "\n",
    "# generate vader score\n",
    "vader_result = vader_score(new_data['description'])\n",
    "new_data['positive'] = vader_result['positive']\n",
    "new_data['neutral'] = vader_result['neutral']\n",
    "new_data['negative'] = vader_result['negative']\n",
    "new_data['compound'] = vader_result['compound']\n",
    "new_data['polarity'] = vader_result['polarity']\n",
    "\n",
    "# generate continent\n",
    "new_data['continent'] = continent(new_data['country'])\n",
    "\n",
    "# generate topic distribution\n",
    "new_doc = token_stop(new_data.iloc[0,1])\n",
    "new_doc_bow = dictionary.doc2bow(new_doc)\n",
    "new_doc_dist = lda.get_document_topics(new_doc_bow)\n",
    "dist = np.zeros(140,)\n",
    "for (i, prob) in new_doc_dist:\n",
    "    dist[i] = prob\n",
    "new_doc_dist = dist\n",
    "new_data = pd.concat([new_data, pd.DataFrame({str(i):[value] for i, value in enumerate(pd.Series(new_doc_dist))})], axis=1)\n",
    "\n",
    "# standardize\n",
    "new_data_ready = pd.concat([new_data[['price', 'positive', 'neutral', 'negative', 'compound']], new_data.iloc[:, 12:]], axis=1)\n",
    "labels = list(new_data_ready.columns)\n",
    "new_data_ready = pd.DataFrame(scaler.transform(new_data_ready))\n",
    "new_data_ready.columns = labels\n",
    "\n",
    "# one hot encoder\n",
    "ohe = OneHotEncoder()\n",
    "transformed = ohe.fit_transform(new_data[['country', 'continent', 'polarity', 'year', 'variety']])\n",
    "df_ohe = pd.DataFrame(transformed.toarray())\n",
    "col_name = []\n",
    "for i in ohe.categories_:\n",
    "    col_name.extend(list(i))\n",
    "df_ohe.columns = col_name\n",
    "new_data_ready = pd.concat([new_data_ready, df_ohe], axis=1)\n",
    "\n",
    "# prepare data for xgb model\n",
    "new_data_xgb = pd.DataFrame({i:[0] for i in list(df_wine_400.columns)[1:]})\n",
    "xgb_columns = list(new_data_xgb.columns)\n",
    "for i in xgb_columns:\n",
    "    try:\n",
    "        new_data_xgb[i] = new_data_ready[i]\n",
    "    except:\n",
    "        continue\n",
    "\n",
    "f = open('data/ohe_reference.json')\n",
    "ohe_reference = json.load(f)\n",
    "f.close()\n",
    "\n",
    "for key, value in ohe_reference.items():\n",
    "    new_data_xgb[key] = value[int(new_data_xgb[key])]\n",
    "\n",
    "new_data_xgb"
   ],
   "metadata": {
    "collapsed": false
   }
  },
  {
   "cell_type": "markdown",
   "source": [
    "## 4. Apply XGBOOST to Predict"
   ],
   "metadata": {
    "collapsed": false
   }
  },
  {
   "cell_type": "code",
   "execution_count": 115,
   "outputs": [],
   "source": [
    "model_xgb = xgb.XGBRegressor()\n",
    "model_xgb.load_model('models/XGBOOST/XGBRegressor_0.763715.json')"
   ],
   "metadata": {
    "collapsed": false
   }
  },
  {
   "cell_type": "code",
   "execution_count": 129,
   "outputs": [
    {
     "data": {
      "text/plain": "   normalized rating     price  positive   neutral  negative  compound  \\\n0           4.301984 -0.510076 -0.357467  0.506417 -0.449336 -0.780777   \n\n          0         1         2         3  ...      2006      2007      2008  \\\n0 -0.171051  0.717333 -0.131139 -0.203453  ... -0.220587 -0.244376 -0.258417   \n\n    2010      2011      2012      2013      2014      2015      2016  \n0 -0.332 -0.340314 -0.386675 -0.375307 -0.364692 -0.284207 -0.168551  \n\n[1 rows x 400 columns]",
      "text/html": "<div>\n<style scoped>\n    .dataframe tbody tr th:only-of-type {\n        vertical-align: middle;\n    }\n\n    .dataframe tbody tr th {\n        vertical-align: top;\n    }\n\n    .dataframe thead th {\n        text-align: right;\n    }\n</style>\n<table border=\"1\" class=\"dataframe\">\n  <thead>\n    <tr style=\"text-align: right;\">\n      <th></th>\n      <th>normalized rating</th>\n      <th>price</th>\n      <th>positive</th>\n      <th>neutral</th>\n      <th>negative</th>\n      <th>compound</th>\n      <th>0</th>\n      <th>1</th>\n      <th>2</th>\n      <th>3</th>\n      <th>...</th>\n      <th>2006</th>\n      <th>2007</th>\n      <th>2008</th>\n      <th>2010</th>\n      <th>2011</th>\n      <th>2012</th>\n      <th>2013</th>\n      <th>2014</th>\n      <th>2015</th>\n      <th>2016</th>\n    </tr>\n  </thead>\n  <tbody>\n    <tr>\n      <th>0</th>\n      <td>4.301984</td>\n      <td>-0.510076</td>\n      <td>-0.357467</td>\n      <td>0.506417</td>\n      <td>-0.449336</td>\n      <td>-0.780777</td>\n      <td>-0.171051</td>\n      <td>0.717333</td>\n      <td>-0.131139</td>\n      <td>-0.203453</td>\n      <td>...</td>\n      <td>-0.220587</td>\n      <td>-0.244376</td>\n      <td>-0.258417</td>\n      <td>-0.332</td>\n      <td>-0.340314</td>\n      <td>-0.386675</td>\n      <td>-0.375307</td>\n      <td>-0.364692</td>\n      <td>-0.284207</td>\n      <td>-0.168551</td>\n    </tr>\n  </tbody>\n</table>\n<p>1 rows × 400 columns</p>\n</div>"
     },
     "execution_count": 129,
     "metadata": {},
     "output_type": "execute_result"
    }
   ],
   "source": [
    "predicted_new_data = pd.DataFrame({'normalized rating': model_xgb.predict(new_data_xgb)})\n",
    "new_data_xgb = pd.concat([predicted_new_data, new_data_xgb], axis=1)\n",
    "new_data_xgb"
   ],
   "metadata": {
    "collapsed": false
   }
  },
  {
   "cell_type": "markdown",
   "source": [
    "## 5. Cosine Similarity Among All Numerical Variables"
   ],
   "metadata": {
    "collapsed": false
   }
  },
  {
   "cell_type": "code",
   "execution_count": 134,
   "outputs": [],
   "source": [
    "def print_most_similar(df, query, matrix, k=10, sort_points=False):\n",
    "    cos_sims = 1 - sp.distance.cdist(matrix, query, 'cosine')\n",
    "    cos_sims = cos_sims.reshape(len(cos_sims))\n",
    "    most_sim_ids = sorted(range(len(cos_sims)), key=lambda i: -cos_sims[i])[:10]\n",
    "    most_similar_df = df[df.index.isin(most_sim_ids)]\n",
    "    most_similar_df = most_similar_df[['title', 'normalized rating']]\n",
    "    if sort_points:\n",
    "        most_similar_df = most_similar_df.sort_values(by=['normalized rating'], ascending=False)\n",
    "        print(f'{k} Most similar wines (descending order by similarity and points):')\n",
    "    else:\n",
    "        print(f'{k} Most similar wines (descending order by similarity):')\n",
    "    for i in range(k):\n",
    "        print(f'{i+1}. {most_similar_df.iloc[i, 0]} ---- {round(most_similar_df.iloc[i, 1], 2)}')"
   ],
   "metadata": {
    "collapsed": false
   }
  },
  {
   "cell_type": "code",
   "execution_count": 136,
   "outputs": [
    {
     "name": "stdout",
     "output_type": "stream",
     "text": [
      "10 Most similar wines (descending order by similarity):\n",
      "1. Kooyong 2013 Farrago Chardonnay (Mornington Peninsula) ---- 5.5\n",
      "2. Giant Steps 2012 Sexton Vineyard Chardonnay (Yarra Valley) ---- 6.4\n",
      "3. Streicker 2013 Bridgeland Block Sauvignon Blanc-Semillon (Margaret River) ---- 3.25\n",
      "4. Vasse Felix 2013 Chardonnay (Margaret River) ---- 6.85\n",
      "5. Cape Mentelle 2012 Sauvignon Blanc-Semillon (Margaret River) ---- 5.05\n",
      "6. Leeuwin Estate 2014 Prelude Vineyards Chardonnay (Margaret River) ---- 6.85\n",
      "7. Stella Bella 2009 Cabernet Sauvignon-Merlot (Margaret River) ---- 5.5\n",
      "8. Robert Oatley 2013 Finisterre Chardonnay (Margaret River) ---- 5.5\n",
      "9. Moorooduc 2013 Robinson Pinot Noir (Mornington Peninsula) ---- 6.4\n",
      "10. Robert Oatley 2015 Finisterre Chardonnay (Margaret River) ---- 6.4\n"
     ]
    }
   ],
   "source": [
    "print_most_similar(df_wine, new_data_xgb, df_wine_400, sort_points=False)"
   ],
   "metadata": {
    "collapsed": false
   }
  }
 ],
 "metadata": {
  "kernelspec": {
   "display_name": "Python 3",
   "language": "python",
   "name": "python3"
  },
  "language_info": {
   "codemirror_mode": {
    "name": "ipython",
    "version": 2
   },
   "file_extension": ".py",
   "mimetype": "text/x-python",
   "name": "python",
   "nbconvert_exporter": "python",
   "pygments_lexer": "ipython2",
   "version": "2.7.6"
  }
 },
 "nbformat": 4,
 "nbformat_minor": 0
}
