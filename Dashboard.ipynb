{
 "cells": [
  {
   "cell_type": "markdown",
   "metadata": {},
   "source": [
    "## 1. Package Installation"
   ]
  },
  {
   "cell_type": "code",
   "execution_count": 2,
   "metadata": {},
   "outputs": [],
   "source": [
    "import pandas as pd\n",
    "import numpy as np\n",
    "import warnings\n",
    "import ast\n",
    "from gensim.models import LdaModel, TfidfModel\n",
    "from gensim.similarities import SparseTermSimilarityMatrix\n",
    "from gensim import corpora\n",
    "from New_Data_Process import continent, process_new_data\n",
    "from Similarity import J_S_distance, cosine_similarity, soft_cosine_measure_similarity\n",
    "import xgboost as xgb\n",
    "import pickle\n",
    "from ipywidgets import widgets\n",
    "from IPython.display import display\n",
    "\n",
    "warnings.filterwarnings('ignore')\n",
    "%config InlineBackend.figure_format='retina'"
   ]
  },
  {
   "cell_type": "markdown",
   "metadata": {},
   "source": [
    "## 2. Preparation"
   ]
  },
  {
   "cell_type": "code",
   "execution_count": 3,
   "metadata": {},
   "outputs": [],
   "source": [
    "df_wine = pd.read_csv('data/df_wine_clean_no.csv').iloc[:, 1:]\n",
    "df_wine_400 = pd.read_csv('data/df_wine_ready_400.csv').iloc[:, 1:]\n",
    "\n",
    "scaler = pickle.load(open('models/scaler_without_ohe.pkl','rb'))\n",
    "\n",
    "lda = LdaModel.load('models/topic modeling/optimal_ldamodel')\n",
    "dictionary = corpora.Dictionary.load('models/topic modeling/optimal_ldamodel.id2word')\n",
    "df_wine['LDA description'] = [ast.literal_eval(text) for text in df_wine['LDA description']]\n",
    "corpus = [dictionary.doc2bow(text) for text in df_wine['LDA description']]\n",
    "tfidf = TfidfModel(corpus)\n",
    "termsim_matrix = SparseTermSimilarityMatrix.load('data/termsim_matrix')\n",
    "\n",
    "model_xgb = xgb.XGBRegressor()\n",
    "model_xgb.load_model('models/XGBOOST/XGBRegressor_0.763715.json')"
   ]
  },
  {
   "cell_type": "markdown",
   "metadata": {},
   "source": [
    "## 3. Manually Input a New Data"
   ]
  },
  {
   "cell_type": "code",
   "execution_count": 4,
   "metadata": {},
   "outputs": [
    {
     "data": {
      "text/html": [
       "<div>\n",
       "<style scoped>\n",
       "    .dataframe tbody tr th:only-of-type {\n",
       "        vertical-align: middle;\n",
       "    }\n",
       "\n",
       "    .dataframe tbody tr th {\n",
       "        vertical-align: top;\n",
       "    }\n",
       "\n",
       "    .dataframe thead th {\n",
       "        text-align: right;\n",
       "    }\n",
       "</style>\n",
       "<table border=\"1\" class=\"dataframe\">\n",
       "  <thead>\n",
       "    <tr style=\"text-align: right;\">\n",
       "      <th></th>\n",
       "      <th>normalized rating</th>\n",
       "      <th>price</th>\n",
       "      <th>positive</th>\n",
       "      <th>neutral</th>\n",
       "      <th>negative</th>\n",
       "      <th>compound</th>\n",
       "      <th>0</th>\n",
       "      <th>1</th>\n",
       "      <th>2</th>\n",
       "      <th>3</th>\n",
       "      <th>...</th>\n",
       "      <th>2006</th>\n",
       "      <th>2007</th>\n",
       "      <th>2008</th>\n",
       "      <th>2010</th>\n",
       "      <th>2011</th>\n",
       "      <th>2012</th>\n",
       "      <th>2013</th>\n",
       "      <th>2014</th>\n",
       "      <th>2015</th>\n",
       "      <th>2016</th>\n",
       "    </tr>\n",
       "  </thead>\n",
       "  <tbody>\n",
       "    <tr>\n",
       "      <th>0</th>\n",
       "      <td>4.301984</td>\n",
       "      <td>-0.510076</td>\n",
       "      <td>-0.357467</td>\n",
       "      <td>0.506417</td>\n",
       "      <td>-0.449336</td>\n",
       "      <td>-0.780777</td>\n",
       "      <td>-0.171051</td>\n",
       "      <td>0.718823</td>\n",
       "      <td>-0.131139</td>\n",
       "      <td>-0.203453</td>\n",
       "      <td>...</td>\n",
       "      <td>-0.220587</td>\n",
       "      <td>-0.244376</td>\n",
       "      <td>-0.258417</td>\n",
       "      <td>-0.332</td>\n",
       "      <td>-0.340314</td>\n",
       "      <td>-0.386675</td>\n",
       "      <td>-0.375307</td>\n",
       "      <td>-0.364692</td>\n",
       "      <td>-0.284207</td>\n",
       "      <td>-0.168551</td>\n",
       "    </tr>\n",
       "  </tbody>\n",
       "</table>\n",
       "<p>1 rows × 400 columns</p>\n",
       "</div>"
      ],
      "text/plain": [
       "   normalized rating     price  positive   neutral  negative  compound  \\\n",
       "0           4.301984 -0.510076 -0.357467  0.506417 -0.449336 -0.780777   \n",
       "\n",
       "          0         1         2         3  ...      2006      2007      2008  \\\n",
       "0 -0.171051  0.718823 -0.131139 -0.203453  ... -0.220587 -0.244376 -0.258417   \n",
       "\n",
       "    2010      2011      2012      2013      2014      2015      2016  \n",
       "0 -0.332 -0.340314 -0.386675 -0.375307 -0.364692 -0.284207 -0.168551  \n",
       "\n",
       "[1 rows x 400 columns]"
      ]
     },
     "execution_count": 4,
     "metadata": {},
     "output_type": "execute_result"
    }
   ],
   "source": [
    "description = \"There are oodles of crowd-pleasing floral and fruit aromas on this Semillon-Sauvignon blend. Honeysuckle, lime blossom, peach and lemon drops are underpinned by gingery spice. The palate is weightier than one might expect, although it's still in the light-to medium-bodied spectrum. Flavors are delicate but persistent. There's freshness and a pretty, summer-sipping vibe. Drink now.\"\n",
    "new_data_xgb = process_new_data(df_wine=df_wine,\n",
    "                                df_wine_400=df_wine_400,\n",
    "                                dictionary=dictionary,\n",
    "                                lda=lda,\n",
    "                                scaler=scaler,\n",
    "                                model_xgb=model_xgb,\n",
    "                                price=18,\n",
    "                                description=description,\n",
    "                                country='Australia',\n",
    "                                province='South Australia',\n",
    "                                variety='Semillon-Sauvignon Blanc',\n",
    "                                year='2021')\n",
    "new_data_xgb"
   ]
  },
  {
   "cell_type": "code",
   "execution_count": 5,
   "metadata": {},
   "outputs": [
    {
     "name": "stdout",
     "output_type": "stream",
     "text": [
      "10 Most similar wines (descending order by similarity):\n",
      "1. Nicosia 2013 Vulkà Bianco  (Etna) ---- 4.15\n",
      "2. Bel Lago 2012 North Vineyard Pinot Noir (Leelanau Peninsula) ---- 5.5\n",
      "3. Bien Nacido 2012 Grenache (Santa Maria Valley) ---- 5.5\n",
      "4. Carlson 2014 Chardonnay (Santa Barbara County) ---- 5.5\n",
      "5. Casa Santos Lima 2014 Quinta do Espirito Santos Red (Lisboa) ---- 5.5\n",
      "6. Château de Sancerre 2014  Sancerre ---- 5.5\n",
      "7. Gratien et Meyer NV Cuvée Flamme Brut Sparkling (Crémant de Loire) ---- 5.5\n",
      "8. Grgich Hills 2013 Miljenko's Selection Chardonnay (Carneros) ---- 5.5\n",
      "9. Havens 2013 Merlot (Napa Valley) ---- 5.5\n",
      "10. La Castellada 2009 Ribolla Gialla (Collio) ---- 5.5\n"
     ]
    }
   ],
   "source": [
    "J_S_distance(df_wine=df_wine,\n",
    "             new_data=np.array(new_data_xgb.iloc[:, 6:146]),\n",
    "             n=10,\n",
    "             sort_by_points=False)"
   ]
  },
  {
   "cell_type": "code",
   "execution_count": 6,
   "metadata": {},
   "outputs": [
    {
     "name": "stdout",
     "output_type": "stream",
     "text": [
      "10 Most similar wines (descending order by similarity):\n",
      "1. Kooyong 2013 Farrago Chardonnay (Mornington Peninsula) ---- 5.5\n",
      "2. Giant Steps 2012 Sexton Vineyard Chardonnay (Yarra Valley) ---- 6.4\n",
      "3. Streicker 2013 Bridgeland Block Sauvignon Blanc-Semillon (Margaret River) ---- 3.25\n",
      "4. Vasse Felix 2013 Chardonnay (Margaret River) ---- 6.85\n",
      "5. Cape Mentelle 2012 Sauvignon Blanc-Semillon (Margaret River) ---- 5.05\n",
      "6. Leeuwin Estate 2014 Prelude Vineyards Chardonnay (Margaret River) ---- 6.85\n",
      "7. Stella Bella 2009 Cabernet Sauvignon-Merlot (Margaret River) ---- 5.5\n",
      "8. Robert Oatley 2013 Finisterre Chardonnay (Margaret River) ---- 5.5\n",
      "9. Moorooduc 2013 Robinson Pinot Noir (Mornington Peninsula) ---- 6.4\n",
      "10. Robert Oatley 2015 Finisterre Chardonnay (Margaret River) ---- 6.4\n"
     ]
    }
   ],
   "source": [
    "cosine_similarity(df_wine=df_wine,\n",
    "                  df_wine_400=df_wine_400,\n",
    "                  new_data=new_data_xgb,\n",
    "                  n=10,\n",
    "                  sort_by_points=False)"
   ]
  },
  {
   "cell_type": "code",
   "execution_count": 4,
   "metadata": {},
   "outputs": [
    {
     "name": "stderr",
     "output_type": "stream",
     "text": [
      "100%|██████████| 118985/118985 [00:45<00:00, 2619.43it/s]"
     ]
    },
    {
     "name": "stdout",
     "output_type": "stream",
     "text": [
      "10 Most similar wines (descending order by similarity):\n",
      "1. Quiet Resolve 2014 Project 592 The Cape Winds Chardonnay (Western Cape) ---- 4.6\n",
      "2. V. Sattui 2011 Riesling (Anderson Valley) ---- 3.7\n",
      "3. Bostavan 2015 Dor Traminer-Chardonnay White (Moldova) ---- 4.15\n",
      "4. Jidvei 2016 Treasure of Transylvania Medium Dry Moscato (Tarnave) ---- 3.25\n",
      "5. Mauro Sebaste 2011  Moscato d'Asti ---- 4.15\n",
      "6. Three Rivers 2007 Chardonnay (Columbia Valley (WA)) ---- 4.15\n",
      "7. Buitenverwachting 2016 Bayten Sauvignon Blanc (Constantia) ---- 5.5\n",
      "8. Tildio 2007 Riesling (Columbia Valley (WA)) ---- 4.6\n",
      "9. La Follette 2013 Pinot Noir (North Coast) ---- 5.5\n",
      "10. Aubichon Cellars 2015 Pinot Noir (Willamette Valley) ---- 6.4\n"
     ]
    },
    {
     "name": "stderr",
     "output_type": "stream",
     "text": [
      "\n"
     ]
    }
   ],
   "source": [
    "soft_cosine_measure_similarity(df_wine=df_wine,\n",
    "                               new_input=description,\n",
    "                               termsim_matrix=termsim_matrix,\n",
    "                               tfidf=tfidf,\n",
    "                               corpus=corpus,\n",
    "                               dictionary=dictionary,\n",
    "                               k=10,\n",
    "                               sort_by_points=False)"
   ]
  },
  {
   "cell_type": "markdown",
   "metadata": {},
   "source": [
    "## 4. Dashboard"
   ]
  },
  {
   "cell_type": "code",
   "execution_count": 15,
   "metadata": {
    "scrolled": true
   },
   "outputs": [
    {
     "data": {
      "application/vnd.jupyter.widget-view+json": {
       "model_id": "486219ba46df408db27b53663d992990",
       "version_major": 2,
       "version_minor": 0
      },
      "text/plain": [
       "Text(value='', description='Price')"
      ]
     },
     "metadata": {},
     "output_type": "display_data"
    },
    {
     "data": {
      "application/vnd.jupyter.widget-view+json": {
       "model_id": "b737cda1d7ea4eebb30d870dca2a48da",
       "version_major": 2,
       "version_minor": 0
      },
      "text/plain": [
       "Text(value='', description='Description', layout=Layout(height='40px', width='auto'))"
      ]
     },
     "metadata": {},
     "output_type": "display_data"
    },
    {
     "data": {
      "application/vnd.jupyter.widget-view+json": {
       "model_id": "cd81a5b8f02d477794b0ca3b3d6ba3bb",
       "version_major": 2,
       "version_minor": 0
      },
      "text/plain": [
       "Text(value='', description='Country')"
      ]
     },
     "metadata": {},
     "output_type": "display_data"
    },
    {
     "data": {
      "application/vnd.jupyter.widget-view+json": {
       "model_id": "0551ff3a906b401789bca43aae10edd3",
       "version_major": 2,
       "version_minor": 0
      },
      "text/plain": [
       "Text(value='', description='Province')"
      ]
     },
     "metadata": {},
     "output_type": "display_data"
    },
    {
     "data": {
      "application/vnd.jupyter.widget-view+json": {
       "model_id": "afee697e597b45708d654d0809ec256f",
       "version_major": 2,
       "version_minor": 0
      },
      "text/plain": [
       "Text(value='', description='Variety')"
      ]
     },
     "metadata": {},
     "output_type": "display_data"
    },
    {
     "data": {
      "application/vnd.jupyter.widget-view+json": {
       "model_id": "b5752dd4e04f4b9ca6587eb475a6722a",
       "version_major": 2,
       "version_minor": 0
      },
      "text/plain": [
       "Dropdown(description='Year', options=(1927, 1928, 1929, 1930, 1931, 1932, 1933, 1934, 1935, 1936, 1937, 1938, …"
      ]
     },
     "metadata": {},
     "output_type": "display_data"
    },
    {
     "data": {
      "application/vnd.jupyter.widget-view+json": {
       "model_id": "2ce68832aa094e0d8177974ca2da52b1",
       "version_major": 2,
       "version_minor": 0
      },
      "text/plain": [
       "Dropdown(description='Method', options=('Topic Prioritized', 'Numeric Prioritized', 'Description Prioritized (…"
      ]
     },
     "metadata": {},
     "output_type": "display_data"
    },
    {
     "data": {
      "application/vnd.jupyter.widget-view+json": {
       "model_id": "826df2ef203a442896f216f3c1dbe765",
       "version_major": 2,
       "version_minor": 0
      },
      "text/plain": [
       "IntSlider(value=0, description='Top # Wines', step=5)"
      ]
     },
     "metadata": {},
     "output_type": "display_data"
    },
    {
     "data": {
      "application/vnd.jupyter.widget-view+json": {
       "model_id": "403c1ba986614fa0b7c613c0b73b5ff4",
       "version_major": 2,
       "version_minor": 0
      },
      "text/plain": [
       "Dropdown(description='Sort Points', options=('False', 'True'), value='False')"
      ]
     },
     "metadata": {},
     "output_type": "display_data"
    },
    {
     "data": {
      "application/vnd.jupyter.widget-view+json": {
       "model_id": "7fbbf8165502482ab13dae1e709ee29c",
       "version_major": 2,
       "version_minor": 0
      },
      "text/plain": [
       "HBox(children=(Button(description='Execute!', style=ButtonStyle()),), layout=Layout(align_items='center', disp…"
      ]
     },
     "metadata": {},
     "output_type": "display_data"
    }
   ],
   "source": [
    "layout = widgets.Layout(width='auto', height='40px')\n",
    "\n",
    "price_input = widgets.Text(description=\"Price\")\n",
    "display(price_input)\n",
    "\n",
    "description_input = widgets.Text(description=\"Description\", layout = layout)\n",
    "display(description_input)\n",
    "\n",
    "country_input = widgets.Text(description=\"Country\")\n",
    "display(country_input)\n",
    "\n",
    "province_input = widgets.Text(description=\"Province\")\n",
    "display(province_input)\n",
    "\n",
    "variety_input = widgets.Text(description=\"Variety\")\n",
    "display(variety_input)\n",
    "\n",
    "year_input = widgets.Dropdown(description=\"Year\", options=range(1927, 2023))\n",
    "display(year_input)\n",
    "\n",
    "method_input = widgets.Dropdown(description=\"Method\", options=['Topic Prioritized', 'Numeric Prioritized', 'Description Prioritized (slow)'])\n",
    "display(method_input)\n",
    "\n",
    "top_input = widgets.IntSlider(description=\"Top # Wines\", min=0, max=100, step=5)\n",
    "display(top_input)\n",
    "\n",
    "sort_input = widgets.Dropdown(description=\"Sort Points\", options=['False', 'True'])\n",
    "display(sort_input)\n",
    "\n",
    "execute = widgets.Button(description='Execute!')\n",
    "box_layout = widgets.Layout(display='flex',\n",
    "                            flex_flow='column',\n",
    "                            align_items='center',\n",
    "                            width='auto',\n",
    "                            height='40px')\n",
    "box = widgets.HBox(children=[execute], layout=box_layout)\n",
    "display(box)\n",
    "\n",
    "def btn_eventhandler(obj):\n",
    "    new_data_xgb = process_new_data(df_wine=df_wine,\n",
    "                                    df_wine_400=df_wine_400,\n",
    "                                    dictionary=dictionary,\n",
    "                                    lda=lda,\n",
    "                                    scaler=scaler,\n",
    "                                    model_xgb=model_xgb,\n",
    "                                    price=int(price_input.value),\n",
    "                                    description=str(description_input.value),\n",
    "                                    country=str(country_input.value),\n",
    "                                    province=str(province_input.value),\n",
    "                                    variety=str(variety_input.value),\n",
    "                                    year=str(year_input.value))  \n",
    "    print(\"Predicted Rating: {0:.2f}\".format(new_data_xgb.iloc[0,0]))\n",
    "    print('-----------------------------------------------------')\n",
    "    if method_input.value == 'Topic Prioritized':\n",
    "        J_S_distance(df_wine=df_wine,\n",
    "                     new_data=np.array(new_data_xgb.iloc[:, 6:146]),\n",
    "                     n=top_input.value,\n",
    "                     sort_by_points=(sort_input.value == 'True'))\n",
    "    elif method_input.value == 'Numeric Prioritized':\n",
    "        cosine_similarity(df_wine=df_wine,\n",
    "                          df_wine_400=df_wine_400,\n",
    "                          new_data=new_data_xgb,\n",
    "                          n=top_input.value,\n",
    "                          sort_by_points=(sort_input.value == 'True'))\n",
    "    elif method_input.value == 'Description Prioritized (slow)':\n",
    "        soft_cosine_measure_similarity(df_wine=df_wine,\n",
    "                                       new_input=str(description_input.value),\n",
    "                                       termsim_matrix=termsim_matrix,\n",
    "                                       tfidf=tfidf,\n",
    "                                       corpus=corpus,\n",
    "                                       dictionary=dictionary,\n",
    "                                       k=top_input.value,\n",
    "                                       sort_by_points=(sort_input.value == 'True'))\n",
    "    \n",
    "        \n",
    "execute.on_click(btn_eventhandler)"
   ]
  },
  {
   "cell_type": "code",
   "execution_count": null,
   "metadata": {},
   "outputs": [],
   "source": []
  }
 ],
 "metadata": {
  "kernelspec": {
   "display_name": "Python 3 (ipykernel)",
   "language": "python",
   "name": "python3"
  },
  "language_info": {
   "codemirror_mode": {
    "name": "ipython",
    "version": 3
   },
   "file_extension": ".py",
   "mimetype": "text/x-python",
   "name": "python",
   "nbconvert_exporter": "python",
   "pygments_lexer": "ipython3",
   "version": "3.9.13"
  }
 },
 "nbformat": 4,
 "nbformat_minor": 1
}
